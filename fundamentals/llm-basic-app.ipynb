{
 "cells": [
  {
   "cell_type": "markdown",
   "id": "885c7cd2",
   "metadata": {},
   "source": []
  },
  {
   "cell_type": "markdown",
   "id": "118a1c87",
   "metadata": {},
   "source": [
    "# LangChain \n",
    "\n",
    "LangChain is a framework for developing applications powered by large language models (LLMs)."
   ]
  },
  {
   "cell_type": "markdown",
   "id": "d21d9f8a",
   "metadata": {},
   "source": [
    "## Installation\n",
    "\n",
    "You could directly install the main library `langchain`and start experimenting with it. Or you could install all dependencies from a `requirement.txt` or `environments.yml` file.\n",
    "\n",
    "Since I'm new in this AI/ML and GenAI world, I like to install package by package. I usually use `conda` and go from there to build my `environments.yml`. So in this case:  `conda install langchain -c conda-forge` \n",
    "\n",
    "You could also run your libraries one by one in your cell like this.\n",
    "\n",
    "`%pip install langchain`."
   ]
  },
  {
   "cell_type": "markdown",
   "id": "1dd744d5",
   "metadata": {},
   "source": [
    "## Architecture\n",
    "Per Langchain documentation, the LangChain framework consists of multiple open-source libraries. Read more in the [Architecture](https://python.langchain.com/docs/concepts/architecture/)\n",
    "\n",
    "We need to understand three of its main open-source libraries first to grass Langchain's concepts.\n",
    "- `langchain-core`: base abstractions for chat models and other components. We will use here `messages` \n",
    "- integration language models: `langchain-openai`, `langchain-aws`, etc. \n",
    "- `langchain`: Chains, agents, and retrieval strategies\n",
    "\n",
    "## LLM Application with ChatModels\n",
    "\n",
    "LangChain supports many different language models that you can use interchangeably. Let's use the revolucionary `OpenAI`\n",
    "\n",
    "`pip install -qU \"langchain[openai]\"`\n",
    "\n",
    "`ChatModels`are instances of LangChain Runnables Interfaces. To simply call the model we pass a list of `messages` with the method `.invoke`\n",
    "\n",
    "### Messages\n",
    "\n",
    "`Messages` are objects used in propmts and chat conversations.\n",
    "\n",
    "Check [Messages AI References](https://python.langchain.com/api_reference/core/messages.html)\n",
    "\n",
    "\n",
    "To start a basic Chat, we can use the model directly by passing a list `SystemMessage` and `HummanMessage` messages.\n",
    "\n",
    "Per definition `SystemMessage` is the message for priming AI behavior. How I see it, it's about defining the **persona** and **role** in some cases. In other cases, it's the **task** or instructions.\n",
    "\n",
    "`HummanMessage` are messages that are passed in from a human to the model. How I see it \"my Want\" or **desire output**.\n",
    "\n"
   ]
  },
  {
   "cell_type": "markdown",
   "id": "4bef7f6d",
   "metadata": {},
   "source": [
    "#### Initial steps\n",
    "\n",
    "- Instal the **ChatModel** of your preferences. In my case: `%pip install -qU \"langchain[openai]` \n",
    "- Set API_KEY, in this case  the `OPENAI_API_KEY`. For simplicity, I use `.env`\n",
    "- Initialize the model\n"
   ]
  },
  {
   "cell_type": "code",
   "execution_count": 1,
   "id": "b1403403",
   "metadata": {},
   "outputs": [],
   "source": [
    "# %pip install langchain\n",
    "# %pip install -qU \"langchain[openai]"
   ]
  },
  {
   "cell_type": "code",
   "execution_count": 2,
   "id": "8d0e8d38",
   "metadata": {},
   "outputs": [],
   "source": [
    "import getpass\n",
    "import os\n",
    "\n",
    "if not os.environ.get(\"OPENAI_API_KEY\"):\n",
    "  os.environ[\"OPENAI_API_KEY\"] = getpass.getpass(\"Enter API key for OpenAI: \")\n",
    "\n",
    "from langchain.chat_models import init_chat_model\n",
    "\n",
    "model = init_chat_model(\"gpt-4o-mini\", model_provider=\"openai\")\n"
   ]
  },
  {
   "cell_type": "code",
   "execution_count": 3,
   "id": "cee8cfb5",
   "metadata": {},
   "outputs": [
    {
     "data": {
      "text/plain": [
       "AIMessage(content='¡Hola!, soy Carmen. Bienvenido a mi viaje de aprendizaje en Langchain.', additional_kwargs={'refusal': None}, response_metadata={'token_usage': {'completion_tokens': 18, 'prompt_tokens': 31, 'total_tokens': 49, 'completion_tokens_details': {'accepted_prediction_tokens': 0, 'audio_tokens': 0, 'reasoning_tokens': 0, 'rejected_prediction_tokens': 0}, 'prompt_tokens_details': {'audio_tokens': 0, 'cached_tokens': 0}}, 'model_name': 'gpt-4o-mini-2024-07-18', 'system_fingerprint': 'fp_f7d56a8a2c', 'id': 'chatcmpl-BPcGLVyVg3fUfXQmVuPaLNRTR6fHH', 'finish_reason': 'stop', 'logprobs': None}, id='run-c31aa3d3-17f8-4d51-a035-f2a225ec3b48-0', usage_metadata={'input_tokens': 31, 'output_tokens': 18, 'total_tokens': 49, 'input_token_details': {'audio': 0, 'cache_read': 0}, 'output_token_details': {'audio': 0, 'reasoning': 0}})"
      ]
     },
     "execution_count": 3,
     "metadata": {},
     "output_type": "execute_result"
    }
   ],
   "source": [
    "from langchain_core.messages import HumanMessage, SystemMessage\n",
    "\n",
    "messages = [\n",
    "    SystemMessage(\"Translate the following from English into Spanish\"),\n",
    "    HumanMessage(\"Hi!, I'm Carmen. Welcome to my Langchain learning's journey\"),\n",
    "]\n",
    "\n",
    "response = model.invoke(messages)\n",
    "\n",
    "# It returns and AIMessage\n",
    "response "
   ]
  },
  {
   "cell_type": "code",
   "execution_count": 4,
   "id": "be389b98",
   "metadata": {},
   "outputs": [
    {
     "data": {
      "text/plain": [
       "{'token_usage': {'completion_tokens': 18,\n",
       "  'prompt_tokens': 31,\n",
       "  'total_tokens': 49,\n",
       "  'completion_tokens_details': {'accepted_prediction_tokens': 0,\n",
       "   'audio_tokens': 0,\n",
       "   'reasoning_tokens': 0,\n",
       "   'rejected_prediction_tokens': 0},\n",
       "  'prompt_tokens_details': {'audio_tokens': 0, 'cached_tokens': 0}},\n",
       " 'model_name': 'gpt-4o-mini-2024-07-18',\n",
       " 'system_fingerprint': 'fp_f7d56a8a2c',\n",
       " 'id': 'chatcmpl-BPcGLVyVg3fUfXQmVuPaLNRTR6fHH',\n",
       " 'finish_reason': 'stop',\n",
       " 'logprobs': None}"
      ]
     },
     "execution_count": 4,
     "metadata": {},
     "output_type": "execute_result"
    }
   ],
   "source": [
    "response.response_metadata"
   ]
  },
  {
   "cell_type": "code",
   "execution_count": 5,
   "id": "79bf682f",
   "metadata": {},
   "outputs": [
    {
     "name": "stdout",
     "output_type": "stream",
     "text": [
      "|¡|Hola|!| Soy| Carmen|.| Bien|venido| a| mi| viaje| de| aprendizaje| de| Lang|chain|.||"
     ]
    }
   ],
   "source": [
    "for token in model.stream(messages):\n",
    "    print(token.content, end=\"|\")"
   ]
  },
  {
   "cell_type": "markdown",
   "id": "88a9d0e2",
   "metadata": {},
   "source": []
  }
 ],
 "metadata": {
  "kernelspec": {
   "display_name": "openai",
   "language": "python",
   "name": "python3"
  },
  "language_info": {
   "codemirror_mode": {
    "name": "ipython",
    "version": 3
   },
   "file_extension": ".py",
   "mimetype": "text/x-python",
   "name": "python",
   "nbconvert_exporter": "python",
   "pygments_lexer": "ipython3",
   "version": "3.12.10"
  }
 },
 "nbformat": 4,
 "nbformat_minor": 5
}
