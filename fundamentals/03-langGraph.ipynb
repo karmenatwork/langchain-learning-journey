{
 "cells": [
  {
   "cell_type": "markdown",
   "id": "8a0c52a9",
   "metadata": {},
   "source": [
    "# Building an Agent using LangGraph\n",
    "\n",
    "LangGraph enables you to define and manage complex, cyclical workflows. Its built-in memory is essential for handling simultaneous conversations, recalling past interactions, and allowing for human intervention.\n",
    "\n",
    "Think of LangGraph as a director for your application's workflow. It allows you to create complex sequences of actions, even ones that loop back on themselves. Critically, it has a built-in memory, which is perfect for keeping track of multiple different conversations at once or remembering what happened earlier, making it possible for a human to step in and guide the process.\n",
    "\n",
    "LangGraph are nodes, edges and conditional edges\n",
    "\n",
    "## LangChain: Tools\n",
    "\n",
    "Let's review one of the LangChain's components. What's tool calling in LangChain?  \n",
    "\n",
    "Per LangChain's doc: ***\"The tool abstraction in LangChain associates a Python function with a schema that defines the function's name, description and expected arguments.\"***\n",
    "\n",
    "The recommended way to create tools is using the `@tool` decorator. \n",
    "\n",
    "````\n",
    "from langchain_core.tools import tool\n",
    "\n",
    "@tool\n",
    "def exponentiate(x: float, y: float) -> float:\n",
    "    \"\"\"Raise 'x' to the 'y'.\"\"\"\n",
    "    return x**y\n",
    "```\n",
    "\n",
    "Here is my understanding of tool calling: \n",
    "\n",
    "**A Bridge for Action:** It's precisely a bridge between the language model and the outside world. This allows the model to move beyond just generating text and actually perform actions.\n",
    "\n",
    "**A Defined Function:** At its core, a tool is a function with a specific purpose, whether that's looking up information, running a calculation, or sending an email.\n",
    "\n",
    "**Crucial Metadata:** The name, description, and input schema are vital. The model relies heavily on the description to understand what the tool does and when it should be used.\n",
    "\n",
    " "
   ]
  },
  {
   "cell_type": "code",
   "execution_count": 1,
   "id": "38d77afc",
   "metadata": {},
   "outputs": [],
   "source": [
    "from dotenv import load_dotenv\n",
    "_ = load_dotenv()"
   ]
  },
  {
   "cell_type": "code",
   "execution_count": null,
   "id": "ac4d20f4",
   "metadata": {},
   "outputs": [],
   "source": [
    "from langgraph.graph import StateGraph, END\n",
    "from typing import TypedDict, Annotated\n",
    "import operator\n",
    "from langchain_core.messages import AnyMessage, SystemMessage, HumanMessage, ToolMessage\n",
    "from langchain_openai import ChatOpenAI\n",
    "from langchain_community.tools.tavily_search import TavilySearchResults"
   ]
  },
  {
   "cell_type": "code",
   "execution_count": 3,
   "id": "5f306f4a",
   "metadata": {},
   "outputs": [
    {
     "name": "stdout",
     "output_type": "stream",
     "text": [
      "<class 'langchain_community.tools.tavily_search.tool.TavilySearchResults'>\n",
      "tavily_search_results_json\n"
     ]
    }
   ],
   "source": [
    "tool = TavilySearchResults(max_results=4) #increased number of results\n",
    "print(type(tool))\n",
    "print(tool.name)"
   ]
  },
  {
   "cell_type": "code",
   "execution_count": 4,
   "id": "ff1a7892",
   "metadata": {},
   "outputs": [],
   "source": [
    "class AgentState(TypedDict):\n",
    "    messages: Annotated[list[AnyMessage], operator.add]"
   ]
  },
  {
   "cell_type": "code",
   "execution_count": 5,
   "id": "e1877154",
   "metadata": {},
   "outputs": [],
   "source": [
    "class Agent:\n",
    "    def __init__(self, model, tools, system=\"\"):\n",
    "        self.system = system\n",
    "        graph = StateGraph(AgentState)\n",
    "        graph.add_node(\"llm\", self.call_llm )\n",
    "        graph.add_node(\"action\", self.take_action)\n",
    "        # # It checks whether there is an action present\n",
    "        # # If there is then it goes to the action node.\n",
    "        # The third argument is a dictionary representing how to map the response of the function to the next node to go to.\n",
    "        # # if exists_action returns True, go to action node\n",
    "        graph.add_conditional_edges(\n",
    "            \"llm\",  # the node where the edge starts\n",
    "            self.exists_action,  # where to go next based on the state of the agent\n",
    "            { True: \"action\", False: END }  # if exists_action returns False, go to END node\n",
    "        )\n",
    "        graph.add_edge(\"action\", \"llm\")  # Start the graph by calling the LLM\n",
    "        graph.set_entry_point(\"llm\")\n",
    "        self.graph = graph.compile() # A LangChain runnable exposes a standard interface for calling and invoking this graph.\n",
    "        self.tools = { t.name: t for t in tools }\n",
    "        # print(f'tools => {self.tools}')\n",
    "        self.model = model.bind_tools(tools) #tools available to call.\n",
    "\n",
    "\n",
    "    def exists_action(self, state: AgentState):\n",
    "        result = state['messages'][-1]\n",
    "        return len(result.tool_calls) > 0\n",
    "    \n",
    "    def call_llm(self, state: AgentState):\n",
    "        messages = state['messages']\n",
    "        if self.system:\n",
    "            messages = [SystemMessage(content=self.system)] + messages\n",
    "        message = self.model.invoke(messages)\n",
    "        return { 'messages': [ message]}\n",
    "    \n",
    "    def take_action(self, state: AgentState):\n",
    "        print('state[\"messages\"] => ', state[\"messages\"])\n",
    "        tool_calls = state[\"messages\"][-1].tool_calls\n",
    "        results = []\n",
    "        for t in tool_calls:\n",
    "            print(f\"Calling: {t}\")\n",
    "            if not t['name'] in self.tools:      # check for bad tool name from LLM\n",
    "                print(\"\\n ....bad tool name....\")\n",
    "                result = \"bad tool name, retry\"  # instruct LLM to retry if bad\n",
    "            else:\n",
    "                result = self.tools[t['name']].invoke(t['args'])\n",
    "            results.append(ToolMessage(tool_call_id=t['id'], name=t['name'], content=str(result)))\n",
    "        print(\"Back to the model!\")\n",
    "        return {'messages': results}"
   ]
  },
  {
   "cell_type": "code",
   "execution_count": 6,
   "id": "0a741abb",
   "metadata": {},
   "outputs": [],
   "source": [
    "tool = TavilySearchResults(max_results=4) #increased number of results\n",
    "prompt = \"\"\"You are a smart research assistant. Use the search engine to look up information. \\\n",
    "You are allowed to make multiple calls (either together or in sequence). \\\n",
    "Only look up information when you are sure of what you want. \\\n",
    "If you need to look up some information before asking a follow up question, you are allowed to do that!\n",
    "\"\"\"\n",
    "\n",
    "model = ChatOpenAI(model=\"gpt-3.5-turbo\")  #reduce inference cost\n",
    "abot =Agent(model, [tool], system=prompt)\n"
   ]
  },
  {
   "cell_type": "code",
   "execution_count": 7,
   "id": "62951653",
   "metadata": {},
   "outputs": [
    {
     "data": {
      "image/png": "[encoded data removed]",
      "text/plain": [
       "<IPython.core.display.Image object>"
      ]
     },
     "execution_count": 7,
     "metadata": {},
     "output_type": "execute_result"
    }
   ],
   "source": [
    "from IPython.display import Image\n",
    "\n",
    "Image(abot.graph.get_graph().draw_png())"
   ]
  },
  {
   "cell_type": "code",
   "execution_count": 8,
   "id": "fd2b148f",
   "metadata": {},
   "outputs": [
    {
     "name": "stdout",
     "output_type": "stream",
     "text": [
      "state[\"messages\"] =>  [HumanMessage(content='Where is the capital of Asunción located?', additional_kwargs={}, response_metadata={}), AIMessage(content='', additional_kwargs={'tool_calls': [{'id': 'call_u1fN24trFEFiQl4ionCN4Flv', 'function': {'arguments': '{\"query\":\"capital of Asunción\"}', 'name': 'tavily_search_results_json'}, 'type': 'function'}], 'refusal': None}, response_metadata={'token_usage': {'completion_tokens': 22, 'prompt_tokens': 156, 'total_tokens': 178, 'completion_tokens_details': {'accepted_prediction_tokens': 0, 'audio_tokens': 0, 'reasoning_tokens': 0, 'rejected_prediction_tokens': 0}, 'prompt_tokens_details': {'audio_tokens': 0, 'cached_tokens': 0}}, 'model_name': 'gpt-3.5-turbo-0125', 'system_fingerprint': None, 'id': 'chatcmpl-BqV7VRxVMwWe7rtz9YbFhqLj9Rkyl', 'finish_reason': 'tool_calls', 'logprobs': None}, id='run-202b7438-b66f-47c8-8f76-e3eb6e575cb6-0', tool_calls=[{'name': 'tavily_search_results_json', 'args': {'query': 'capital of Asunción'}, 'id': 'call_u1fN24trFEFiQl4ionCN4Flv', 'type': 'tool_call'}], usage_metadata={'input_tokens': 156, 'output_tokens': 22, 'total_tokens': 178, 'input_token_details': {'audio': 0, 'cache_read': 0}, 'output_token_details': {'audio': 0, 'reasoning': 0}})]\n",
      "Calling: {'name': 'tavily_search_results_json', 'args': {'query': 'capital of Asunción'}, 'id': 'call_u1fN24trFEFiQl4ionCN4Flv', 'type': 'tool_call'}\n",
      "Back to the model!\n"
     ]
    }
   ],
   "source": [
    "messages = [HumanMessage(content=\"Where is the capital of Asunción located?\")]\n",
    "result = abot.graph.invoke({\"messages\": messages})"
   ]
  },
  {
   "cell_type": "code",
   "execution_count": 9,
   "id": "7d21ba29",
   "metadata": {},
   "outputs": [
    {
     "data": {
      "text/plain": [
       "'The capital of Asunción is the largest city of Paraguay. It stands on the eastern bank of the Paraguay River, almost at the confluence of the Paraguay River with the Pilcomayo River. You can find more information on Wikipedia: [Asunción - Wikipedia](https://en.wikipedia.org/wiki/Asunci%C3%B3n).'"
      ]
     },
     "execution_count": 9,
     "metadata": {},
     "output_type": "execute_result"
    }
   ],
   "source": [
    "result['messages'][-1].content"
   ]
  },
  {
   "cell_type": "code",
   "execution_count": 10,
   "id": "14391722",
   "metadata": {},
   "outputs": [
    {
     "name": "stdout",
     "output_type": "stream",
     "text": [
      "state[\"messages\"] =>  [HumanMessage(content='Which countries are in the same timezone as Asunción?', additional_kwargs={}, response_metadata={}), AIMessage(content='', additional_kwargs={'tool_calls': [{'id': 'call_Ej8X0eRXADABkxA2ffWJ8f1Z', 'function': {'arguments': '{\"query\":\"countries in the same timezone as Asunción\"}', 'name': 'tavily_search_results_json'}, 'type': 'function'}], 'refusal': None}, response_metadata={'token_usage': {'completion_tokens': 26, 'prompt_tokens': 158, 'total_tokens': 184, 'completion_tokens_details': {'accepted_prediction_tokens': 0, 'audio_tokens': 0, 'reasoning_tokens': 0, 'rejected_prediction_tokens': 0}, 'prompt_tokens_details': {'audio_tokens': 0, 'cached_tokens': 0}}, 'model_name': 'gpt-3.5-turbo-0125', 'system_fingerprint': None, 'id': 'chatcmpl-BqV92e44QFA4mhqqpm6tRaCRqJlwo', 'finish_reason': 'tool_calls', 'logprobs': None}, id='run-a8786e55-acac-4fcc-9f5a-86bbb27ce93a-0', tool_calls=[{'name': 'tavily_search_results_json', 'args': {'query': 'countries in the same timezone as Asunción'}, 'id': 'call_Ej8X0eRXADABkxA2ffWJ8f1Z', 'type': 'tool_call'}], usage_metadata={'input_tokens': 158, 'output_tokens': 26, 'total_tokens': 184, 'input_token_details': {'audio': 0, 'cache_read': 0}, 'output_token_details': {'audio': 0, 'reasoning': 0}})]\n",
      "Calling: {'name': 'tavily_search_results_json', 'args': {'query': 'countries in the same timezone as Asunción'}, 'id': 'call_Ej8X0eRXADABkxA2ffWJ8f1Z', 'type': 'tool_call'}\n",
      "Back to the model!\n"
     ]
    }
   ],
   "source": [
    "messages = [HumanMessage(content=\"Which countries are in the same timezone as Asunción?\")]\n",
    "result = abot.graph.invoke({\"messages\": messages})"
   ]
  },
  {
   "cell_type": "code",
   "execution_count": 11,
   "id": "f0d11df0",
   "metadata": {},
   "outputs": [
    {
     "data": {
      "text/plain": [
       "'The countries that are in the same timezone as Asunción, Paraguay (which is in the America/Asuncion timezone) include:\\n\\n1. Paraguay (Asunción)\\n2. Puerto Rico (San Juan)\\n3. Chile (Santiago)\\n4. Argentina (Buenos Aires)\\n\\nThese countries are in the UTC-4 timezone.'"
      ]
     },
     "execution_count": 11,
     "metadata": {},
     "output_type": "execute_result"
    }
   ],
   "source": [
    "result['messages'][-1].content"
   ]
  },
  {
   "cell_type": "code",
   "execution_count": 12,
   "id": "b3d23d1a",
   "metadata": {},
   "outputs": [
    {
     "name": "stdout",
     "output_type": "stream",
     "text": [
      "state[\"messages\"] =>  [HumanMessage(content='Did Paraguay classify to FIFA World Cup 2022? Did Argentina qualify as well?. Answer each question.', additional_kwargs={}, response_metadata={}), AIMessage(content='', additional_kwargs={'tool_calls': [{'id': 'call_qZyQ8Zm6Avovf05YEXg1t913', 'function': {'arguments': '{\"query\": \"Paraguay FIFA World Cup 2022 qualification\"}', 'name': 'tavily_search_results_json'}, 'type': 'function'}, {'id': 'call_QrYcbjp7ij9h6QgpBsDphadD', 'function': {'arguments': '{\"query\": \"Argentina FIFA World Cup 2022 qualification\"}', 'name': 'tavily_search_results_json'}, 'type': 'function'}], 'refusal': None}, response_metadata={'token_usage': {'completion_tokens': 68, 'prompt_tokens': 165, 'total_tokens': 233, 'completion_tokens_details': {'accepted_prediction_tokens': 0, 'audio_tokens': 0, 'reasoning_tokens': 0, 'rejected_prediction_tokens': 0}, 'prompt_tokens_details': {'audio_tokens': 0, 'cached_tokens': 0}}, 'model_name': 'gpt-4o-2024-08-06', 'system_fingerprint': 'fp_07871e2ad8', 'id': 'chatcmpl-BqV9TusBhEXDpMJ3qFjwVIx0Qlq6T', 'finish_reason': 'tool_calls', 'logprobs': None}, id='run-97bf9944-6c64-47df-b3c3-98225fd5b03f-0', tool_calls=[{'name': 'tavily_search_results_json', 'args': {'query': 'Paraguay FIFA World Cup 2022 qualification'}, 'id': 'call_qZyQ8Zm6Avovf05YEXg1t913', 'type': 'tool_call'}, {'name': 'tavily_search_results_json', 'args': {'query': 'Argentina FIFA World Cup 2022 qualification'}, 'id': 'call_QrYcbjp7ij9h6QgpBsDphadD', 'type': 'tool_call'}], usage_metadata={'input_tokens': 165, 'output_tokens': 68, 'total_tokens': 233, 'input_token_details': {'audio': 0, 'cache_read': 0}, 'output_token_details': {'audio': 0, 'reasoning': 0}})]\n",
      "Calling: {'name': 'tavily_search_results_json', 'args': {'query': 'Paraguay FIFA World Cup 2022 qualification'}, 'id': 'call_qZyQ8Zm6Avovf05YEXg1t913', 'type': 'tool_call'}\n",
      "Calling: {'name': 'tavily_search_results_json', 'args': {'query': 'Argentina FIFA World Cup 2022 qualification'}, 'id': 'call_QrYcbjp7ij9h6QgpBsDphadD', 'type': 'tool_call'}\n",
      "Back to the model!\n"
     ]
    }
   ],
   "source": [
    "# Note, the query was modified to produce more consistent results. \n",
    "# Results may vary per run and over time as search information and models change.\n",
    "\n",
    "query = \"Did Paraguay classify to FIFA World Cup 2022? Did Argentina qualify as well?. Answer each question.\" \n",
    "messages = [HumanMessage(content=query)]\n",
    "\n",
    "model = ChatOpenAI(model=\"gpt-4o\")  # requires more advanced model\n",
    "abot = Agent(model, [tool], system=prompt)\n",
    "result = abot.graph.invoke({\"messages\": messages})"
   ]
  },
  {
   "cell_type": "code",
   "execution_count": 13,
   "id": "f51de67f",
   "metadata": {},
   "outputs": [
    {
     "name": "stdout",
     "output_type": "stream",
     "text": [
      "Paraguay did not qualify for the FIFA World Cup 2022. They finished 8th in the CONMEBOL qualification standings.\n",
      "\n",
      "Argentina, on the other hand, successfully qualified for the FIFA World Cup 2022. They finished 2nd in the CONMEBOL qualification standings.\n"
     ]
    }
   ],
   "source": [
    "print(result['messages'][-1].content)"
   ]
  }
 ],
 "metadata": {
  "kernelspec": {
   "display_name": "openai",
   "language": "python",
   "name": "python3"
  },
  "language_info": {
   "codemirror_mode": {
    "name": "ipython",
    "version": 3
   },
   "file_extension": ".py",
   "mimetype": "text/x-python",
   "name": "python",
   "nbconvert_exporter": "python",
   "pygments_lexer": "ipython3",
   "version": "3.12.10"
  }
 },
 "nbformat": 4,
 "nbformat_minor": 5
}
