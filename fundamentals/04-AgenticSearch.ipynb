{
 "cells": [
  {
   "cell_type": "markdown",
   "id": "8867d4a9",
   "metadata": {},
   "source": [
    "# Agentic Search\n",
    "\n",
    "## First: Example without using the client. Minimun we need three steps.\n",
    "1- Create a search function using ducckduckgo_search that will return urls.\n",
    "\n",
    "2- Scrape info using the library Beautiful Soup.\n",
    "\n",
    "***Beautiful Soup is a Python library for pulling data out of HTML and XML files. It works with your favorite parser to provide idiomatic ways of navigating, searching, and modifying the parse tree.***\n",
    "\n",
    "3- Print the info"
   ]
  },
  {
   "cell_type": "code",
   "execution_count": 1,
   "id": "20b2bc55",
   "metadata": {},
   "outputs": [],
   "source": [
    "# Load all libraries\n",
    "from dotenv import load_dotenv\n",
    "import os\n",
    "\n",
    "# load environment variables from .env file\n",
    "_ = load_dotenv()"
   ]
  },
  {
   "cell_type": "code",
   "execution_count": 4,
   "id": "58940ce1",
   "metadata": {},
   "outputs": [],
   "source": [
    "import requests\n",
    "from bs4 import BeautifulSoup\n",
    "import re\n",
    "from duckduckgo_search import DDGS\n",
    "\n",
    "ddg = DDGS()\n",
    "\n",
    "def search(query, max_results=6):\n",
    "    try:\n",
    "        results = ddg.text(query, max_results=max_results)\n",
    "        return [i[\"href\"] for i in results]\n",
    "    except Exception as e:\n",
    "        print(f\"returning previous results due to exception reaching ddg.\")\n",
    "        results = [ # cover case where DDG rate limits due to high deeplearning.ai volume\n",
    "            \"https://en.wikipedia.org/wiki/Paraguay\",\n",
    "            \"https://en.wikipedia.org/wiki/Asunción\"\n",
    "            \n",
    "        ]\n",
    "        return results  "
   ]
  },
  {
   "cell_type": "code",
   "execution_count": 5,
   "id": "8679cbe4",
   "metadata": {},
   "outputs": [
    {
     "name": "stdout",
     "output_type": "stream",
     "text": [
      "returning previous results due to exception reaching ddg.\n",
      "https://en.wikipedia.org/wiki/Paraguay\n",
      "https://en.wikipedia.org/wiki/Asunción\n"
     ]
    }
   ],
   "source": [
    "city = \"Asunción\"  # change to your city of interest\n",
    "\n",
    "query = f\"\"\"\n",
    "    where is the city of {city}?\n",
    "    Which languages are spoken there?\n",
    "    \"en.wikipedia.org\"\n",
    "\"\"\"\n",
    "\n",
    "for i in search(query):\n",
    "    print(i)"
   ]
  },
  {
   "cell_type": "code",
   "execution_count": 6,
   "id": "bcd988f8",
   "metadata": {},
   "outputs": [
    {
     "name": "stdout",
     "output_type": "stream",
     "text": [
      "returning previous results due to exception reaching ddg.\n",
      "Website: https://en.wikipedia.org/wiki/Paraguay\n",
      "\n",
      "\n",
      "<body class=\"skin--responsive skin-vector skin-vector-search-vue mediawiki ltr sitedir-ltr mw-hide-empty-elt ns-0 ns-subject mw-editable page-Paraguay rootpage-Paraguay skin-vector-2022 action-view\"><a class=\"mw-jump-link\" href=\"#bodyContent\">Jump to content</a>\n",
      "<div class=\"vector-header-container\">\n",
      "<header class=\"vector-header mw-header no-font-mode-scale\">\n",
      "<div class=\"vector-header-start\">\n",
      "<nav aria-label=\"Site\" class=\"vector-main-menu-landmark\">\n",
      "<div class=\"vector-dropdown vector-main-menu-dropdown vector-button-flush-left vector-button-flush-right\" id=\"vector-main-menu-dropdown\" title=\"Main menu\">\n",
      "<input aria-haspopup=\"true\" aria-label=\"Main menu\" class=\"vector-dropdown-checkbox\" data-event-name=\"ui.dropdown-vector-main-menu-dropdown\" id=\"vector-main-menu-dropdown-checkbox\" role=\"button\" type=\"checkbox\"/>\n",
      "<label aria-hidden=\"true\" class=\"vector-dropdown-label cdx-button cdx-button--fake-button cdx-button--fake-button--enabled cdx-button--weight-quiet cdx-button--icon-only\" for=\"vector-main-menu-dropdown-checkbox\" id=\"vector-main-menu-dropdown-label\"><span class=\"vector-icon mw-ui-icon-menu mw-ui-icon-wikimedia-menu\"></span>\n",
      "<span class=\"vector-dropdown-label-text\">Main menu</span>\n",
      "</label>\n",
      "<div class=\"vector-dropdown-content\">\n",
      "<div class=\"vector-unpinned-container\" id=\"vector-main-menu-unpinned-container\">\n",
      "<div class=\"vector-main-menu vector-pinnable-element\" id=\"vector-main-menu\">\n",
      "<div class=\"vector-pinnable-header vector-main-menu-pinnable-header vector-pinnable-header-unpinned\" data-feature-name=\"main-menu-pinned\" data-pinnable-element-id=\"vector-main-menu\" data-pinned-container-id=\"vector-main-menu-pinned-container\" data-unpinned-container-id=\"vector-main-menu-unpinned-container\">\n",
      "<div class=\"vector-pinnable-header-label\">Main menu</div>\n",
      "<button class=\"vector-pinnable-header-toggle-button vector-pinnable-header-pin-button\" data-event-name=\"pinnable-header.vector-main-menu.pin\">move to sidebar</button>\n",
      "<button class=\"vector-pinnable-header-toggle-button vector-pinnable-header-unpin-button\" data-event-name=\"pinnable-header.vector-main-menu.unpin\">hide</button>\n",
      "</div>\n",
      "<div class=\"vector-menu mw-portlet mw-portlet-navigation\" id=\"p-navigation\">\n",
      "<div class=\"vector-menu-heading\">\n",
      "\t\tNavigation\n",
      "\t</div>\n",
      "<div class=\"vector-menu-content\">\n",
      "<ul class=\"vector-menu-content-list\">\n",
      "<li class=\"mw-list-item\" id=\"n-mainpage-description\"><a accesskey=\"z\" href=\"/wiki/Main_Page\" title=\"Visit the main page [z]\"><span>Main page</span></a></li><li class=\"mw-list-item\" id=\"n-contents\"><a href=\"/wiki/Wikipedia:Contents\" title=\"Guides to browsing Wikipedia\"><span>Contents</span></a></li><li class=\"mw-list-item\" id=\"n-currentevents\"><a href=\"/wiki/Portal:Current_events\" title=\"Articles related to current events\"><span>Current events</span></a></li><li class=\"mw-list-item\" id=\"n-randompage\"><a accesskey=\"x\" href=\"/wiki/Special:Random\" title=\"Visit a randomly selected article [x]\"><span>Random article</span></a></li><li class=\"mw-list-item\" id=\"n-aboutsite\"><a href=\"/wiki/Wikipedia:About\" title=\"Learn about Wikipedia and how it works\"><span>About Wikipedia</span></a></li><li class=\"mw-list-item\" id=\"n-contactpage\"><a href=\"//en.wikipedia.org/wiki/Wikipedia:Contact_us\" title=\"How to contact Wikipedia\"><span>Contact us</span></a></li>\n",
      "</ul>\n",
      "</div>\n",
      "</div>\n",
      "<div class=\"vector-menu mw-portlet mw-portlet-interaction\" id=\"p-interaction\">\n",
      "<div class=\"vector-menu-heading\">\n",
      "\t\tContribute\n",
      "\t</div>\n",
      "<div class=\"vector-menu-content\">\n",
      "<ul class=\"vector-menu-content-list\">\n",
      "<li class=\"mw-list-item\" id=\"n-help\"><a href=\"/wiki/Help:Contents\" title=\"Guidance on how to use and edit Wikipedia\"><span>Help</span></a></li><li class=\"mw-list-item\" id=\"n-introduction\"><a href=\"/wiki/Help:Introduction\" title=\"Learn how to edit Wikipedia\"><span>Learn to edit</span></a></li><li class=\"mw-list-item\" id=\"n-portal\"><a href=\"/wiki/Wikipedia:Community_portal\" title=\"The hub for editors\"><span>Community portal</span></a></li><li class=\"mw-list-item\" id=\"n-recentchanges\"><a accesskey=\"r\" href=\"/wiki/Special:RecentChanges\" title=\"A list of recent changes to Wikipedia [r]\"><span>Recent changes</span></a></li><li class=\"mw-list-item\" id=\"n-upload\"><a href=\"/wiki/Wikipedia:File_upload_wizard\" title=\"Add images or other media for use on Wikipedia\"><span>Upload file</span></a></li><li class=\"mw-list-item\" id=\"n-specialpages\"><a href=\"/wiki/Special:SpecialPages\"><span>Special pages</span></a></li>\n",
      "</ul>\n",
      "</div>\n",
      "</div>\n",
      "</div>\n",
      "</div>\n",
      "</div>\n",
      "</div>\n",
      "</nav>\n",
      "<a class=\"mw-logo\" href=\"/wiki/Main_Page\">\n",
      "<img alt=\"\" aria-hidden=\"true\" class=\"mw-logo-icon\" height=\"50\" src=\"/static/images/icons/wikipedia.png\" width=\"50\"/>\n",
      "<span class=\"mw-logo-container skin-invert\">\n",
      "<img alt=\"Wikipedia\" class=\"mw-logo-wordmark\" src=\"/static/images/mobile/copyright/wikipedia-wordmark-en.svg\" style=\"width: 7.5em; height: 1.125em;\"/>\n",
      "<img alt=\"The Free Encyclopedia\" class=\"mw-logo-tagline\" height=\"13\" src=\"/static/images/mobile/copyright/wikipedia-tagline-en.svg\" style=\"width: 7.3125em; height: 0.8125em;\" width=\"117\"/>\n",
      "</span>\n",
      "</a>\n",
      "</div>\n",
      "<div class=\"vector-header-end\">\n",
      "<div class=\"vector-search-box-vue vector-search-box-collapses vector-search-box-show-thumbnail vector-search-box-auto-expand-width vector-search-box\" id=\"p-search\" role=\"search\">\n",
      "<a accesskey=\"f\" class=\"cdx-button cdx-button--fake-button cdx-button--fake-button--enabled cdx-button--weight-quiet cdx-button--icon-only search-toggle\" href=\"/wiki/Special:Search\" title=\"Search Wikipedia [f]\"><span class=\"vector-icon mw-ui-icon-search mw-ui-icon-wikimedia-search\"></span>\n",
      "<span>Search</span>\n",
      "</a>\n",
      "<div class=\"vector-typeahead-search-container\">\n",
      "<div class=\"cdx-typeahead-search cdx-typeahead-search--show-thumbnail cdx-typeahead-search--auto-expand-width\">\n",
      "<form action=\"/w/index.php\" class=\"cdx-search-input cdx-search-input--has-end-button\" id=\"searchform\">\n",
      "<div class=\"cdx-search-input__input-wrapper\" data-search-loc=\"header-moved\" id=\"simpleSearch\">\n",
      "<div class=\"cdx-text-input cdx-text-input--has-start-icon\">\n",
      "<input accesskey=\"f\" aria-label=\"Search Wikipedia\" autocapitalize=\"sentences\" class=\"cdx-text-input__input mw-searchInput\" id=\"searchInput\" name=\"search\" placeholder=\"Search Wikipedia\" spellcheck=\"false\" title=\"Search Wikipedia [f]\" type=\"search\"/>\n",
      "<span class=\"cdx-text-input__icon cdx-text-input__start-icon\"></span>\n",
      "</div>\n",
      "<input name=\"title\" type=\"hidden\" value=\"Special:Search\"/>\n",
      "</div>\n",
      "<button class=\"cdx-button cdx-search-input__end-button\">Search</button>\n",
      "</form>\n",
      "</div>\n",
      "</div>\n",
      "</div>\n",
      "<nav aria-label=\"Personal tools\" class=\"vector-user-links vector-user-links-wide\">\n",
      "<div class=\"vector-user-links-main\">\n",
      "<div class=\"vector-menu mw-portlet emptyPortlet\" id=\"p-vector-user-menu-preferences\">\n",
      "<div class=\"vector-menu-content\">\n",
      "<ul class=\"vector-menu-content-list\">\n",
      "</ul>\n",
      "</div>\n",
      "</div>\n",
      "<div class=\"vector-menu mw-portlet emptyPortlet\" id=\"p-vector-user-menu-userpage\">\n",
      "<div class=\"vector-menu-content\">\n",
      "<ul class=\"vector-menu-content-list\">\n",
      "</ul>\n",
      "</div>\n",
      "</div>\n",
      "<nav aria-label=\"Appearance\" class=\"vector-appearance-landmark\">\n",
      "<div class=\"vector-dropdown\" id=\"vector-appearance-dropdown\" title=\"Change the appearance of the page's font size, width, and color\">\n",
      "<input aria-haspopup=\"true\" aria-label=\"Appearance\" class=\"vector-dropdown-checkbox\" data-event-name=\"ui.dropdown-vector-appearance-dropdown\" id=\"vector-appearance-dropdown-checkbox\" role=\"button\" type=\"checkbox\"/>\n",
      "<label aria-hidden=\"true\" class=\"vector-dropdown-label cdx-button cdx-button--fake-button cdx-button--fake-button--enabled cdx-button--weight-quiet cdx-button--icon-only\" for=\"vector-appearance-dropdown-checkbox\" id=\"vector-appearance-dropdown-label\"><span class=\"vector-icon mw-ui-icon-appearance mw-ui-icon-wikimedia-appearance\"></span>\n",
      "<span class=\"vector-dropdown-label-text\">Appearance</span>\n",
      "</label>\n",
      "<div class=\"vector-dropdown-content\">\n",
      "<div class=\"vector-unpinned-container\" id=\"vector-appearance-unpinned-container\">\n",
      "</div>\n",
      "</div>\n",
      "</div>\n",
      "</nav>\n",
      "<div class=\"vector-menu mw-portlet emptyPortlet\" id=\"p-vector-user-menu-notifications\">\n",
      "<div class=\"vector-menu-content\">\n",
      "<ul class=\"vector-menu-content-list\">\n",
      "</ul>\n",
      "</div>\n",
      "</div>\n",
      "<div class=\"vector-menu mw-portlet\" id=\"p-vector-user-menu-overflow\">\n",
      "<div class=\"vector-menu-content\">\n",
      "<ul class=\"vector-menu-content-list\">\n",
      "<li class=\"user-links-collapsible-item mw-list-item user-links-collapsible-item\" id=\"pt-sitesupport-2\"><a class=\"\" data-mw=\"interface\" href=\"https://donate.wikimedia.org/?wmf_source=donate&amp;wmf_medium=sidebar&amp;wmf_campaign=en.wikipedia.org&amp;uselang=en\"><span>Donate</span></a>\n",
      "</li>\n",
      "<li class=\"user-links-collapsible-item mw-list-item user-links-collapsible-item\" id=\"pt-createaccount-2\"><a class=\"\" data-mw=\"interface\" href=\"/w/index.php?title=Special:CreateAccount&amp;returnto=Paraguay\" title=\"You are encouraged to create an account and log in; however, it is not mandatory\"><span>Create account</span></a>\n",
      "</li>\n",
      "<li class=\"user-links-collapsible-item mw-list-item user-links-collapsible-item\" id=\"pt-login-2\"><a accesskey=\"o\" class=\"\" data-mw=\"interface\" href=\"/w/index.php?title=Special:UserLogin&amp;returnto=Paraguay\" title=\"You're encouraged to log in; however, it's not mandatory. [o]\"><span>Log in</span></a>\n",
      "</li>\n",
      "</ul>\n",
      "</div>\n",
      "</div>\n",
      "</div>\n",
      "<div class=\"vector-dropdown vector-user-menu vector-button-flush-right vector-user-menu-logged-out\" id=\"vector-user-links-dropdown\" title=\"Log in and more options\">\n",
      "<input aria-haspopup=\"true\" aria-label=\"Personal tools\" class=\"vector-dropdown-checkbox\" data-event-name=\"ui.dropdown-vector-user-links-dropdown\" id=\"vector-user-links-dropdown-checkbox\" role=\"button\" type=\"checkbox\"/>\n",
      "<label aria-hidden=\"true\" class=\"vector-dropdown-label cdx-button cdx-button--fake-button cdx-button--fake-button--enabled cdx-button--weight-quiet cdx-button--icon-only\" for=\"vector-user-links-dropdown-checkbox\" id=\"vector-user-links-dropdown-label\"><span class=\"vector-icon mw-ui-icon-ellipsis mw-ui-icon-wikimedia-ellipsis\"></span>\n",
      "<span class=\"vector-dropdown-label-text\">Personal tools</span>\n",
      "</label>\n",
      "<div class=\"ve\n"
     ]
    }
   ],
   "source": [
    "# Function to scrape weather information from a given URL\n",
    "def scrape_info(url):\n",
    "    \"\"\"Scrape content from the given URL\"\"\"\n",
    "    if not url:\n",
    "        return \"Information could not be found.\"\n",
    "    \n",
    "    # fetch data\n",
    "    headers = {'User-Agent': 'Mozilla/5.0'}\n",
    "    response = requests.get(url, headers=headers)\n",
    "    if response.status_code != 200:\n",
    "        return \"Failed to retrieve the webpage.\"\n",
    "\n",
    "    # parse result\n",
    "    soup = BeautifulSoup(response.text, 'html.parser')\n",
    "    return soup\n",
    "\n",
    "# use DuckDuckGo to find websites and take the first result\n",
    "url = search(query)[0]\n",
    "\n",
    "# scrape first wesbsite\n",
    "soup = scrape_info(url)\n",
    "\n",
    "print(f\"Website: {url}\\n\\n\")\n",
    "print(str(soup.body)[:10000]) # limit long outputs"
   ]
  },
  {
   "cell_type": "code",
   "execution_count": 7,
   "id": "2a1b4256",
   "metadata": {},
   "outputs": [
    {
     "name": "stdout",
     "output_type": "stream",
     "text": [
      "Weather Information:\n",
      "- The overall climate is tropical to subtropical. Like most lands in the region, Paraguay has only wet and dry periods. Winds play a major role in influencing Paraguay's weather: between October and March, warm winds blow from the Amazon Basin in the north, while the period between May and August brings cold winds from the Andes.\n",
      "- The absence of mountain ranges to provide a natural barrier allows winds to develop speeds as high as 161 km/h (100 mph). This also leads to significant changes in temperature within a short span of time; between April and September, temperatures will sometimes drop below freezing. January is the hottest summer month, with an average daily temperature of 28.9 degrees Celsius (84 degrees F).\n",
      "- Paraguay's most important urban areas are located along the Argentina-Paraguay border: Asunción, Alberdi, Encarnación, Pilar and Ciudad del Este, the latter being the third most important free commercial zone in the world, only trailing behind Miami and Hong Kong.[80][81] A large percentage of the population, especially in rural areas, derives its living from agricultural activity, often on a subsistence basis. Because of the importance of the informal sector, accurate economic measures are difficult to obtain. The economy grew rapidly between 2003 and 2013 as growing world demand for commodities combined with high prices and favorable weather to support Paraguay's commodity-based export expansion.\n"
     ]
    }
   ],
   "source": [
    "weather_data = []\n",
    "for tag in soup.find_all(['h1', 'h2', 'h3', 'p']):\n",
    "    if tag.text:\n",
    "        text = tag.text.strip()\n",
    "        if re.search(r'\\b(?:temperature|weather|forecast|humidity|wind)\\b', text, re.IGNORECASE):\n",
    "            weather_data.append(text)\n",
    "\n",
    "if weather_data:\n",
    "    print(\"Weather Information:\")\n",
    "    for data in weather_data:\n",
    "        print(f\"- {data}\")"
   ]
  },
  {
   "cell_type": "code",
   "execution_count": 16,
   "id": "f867c4cd",
   "metadata": {},
   "outputs": [
    {
     "name": "stdout",
     "output_type": "stream",
     "text": [
      "Website: https://en.wikipedia.org/wiki/Paraguay\n",
      "\n",
      "\n",
      "Contents Paraguay in South America (gray) Paraguay,[c] officially the Republic of Paraguay,[d] is a landlocked American country located in the central region of South America. It is a unitary state with a territory composed of a capital district and seventeen provinces. Its capital and largest city is Asunción. Paraguay is a presidential republic and a state governed by the rule of law. It is a founding member of Mercosur, along with Argentina, Brazil and Uruguay. Spanish conquistadores arrived in 1524, and in 1537 established the city of Asunción, the first capital of the Governorate of the Río de la Plata.[9] During the 17th century, Paraguay was the center of Jesuit missions, where the native Guaraní people were converted to Christianity and introduced to European culture.[10] After the expulsion of the Jesuits from Spanish territories in 1767, Paraguay increasingly became a peripheral colony. Following independence from Spain in the early 19th century, Paraguay was ruled by a series of authoritarian governments. This period ended with the disastrous Paraguayan War (1864–1870), during which the country lost half its prewar population and around 25–33% of its territory. In the 20th century, Paraguay faced another major international conflict—the Chaco War (1932–1935) against Bolivia—in which Paraguay prevailed. The country came under a succession of military dictators, culminating in the 35-year regime of Alfredo Stroessner, which lasted until his overthrow in 1989 by an internal military coup. This marked the beginning of Paraguay's current democratic era. Paraguay is a developing country, ranking 105th in the Human Development Index.[11] It is a founding member of Mercosur, the United Nations, the Organization of American States, the Non-Aligned Movement and the Lima Group. Additionally, the city of Luque, in metropolitan Asunción, is the seat of the South American Football Confederation. While it is the only landlocked country in South America besides Bolivia, Paraguayan ports are able to access the Atlantic Ocean via the Paraná–Paraguay Waterway.[12] The majority of Paraguay's 6 million people are mestizo, and Guarani culture remains widely influential; more than 90% of the population speak various dialects of the Guarani language alongside Spanish. Paraguay's GDP per capita PPP is the seventh-highest in South America. In a 2014 Positive Experience Index based on global polling data, Paraguay ranked as the \"world's happiest place\".[13] Etymology The origin of the name Paraguay is uncertain. One version postulates the name takes from Guaraní paraguá \"feather crown\" and y \"water\" thus paraguaí \"feather crown of waters\".[14] Other versions affirm that the name derives from the Payaguá people,[15] for the Paraguay River was called the Payaguá-y, or \"river of the Payaguás\" by the Guaraní and hence would have come the name for the country; or that, also from the Guaraní, para would mean sea, gua, originates, and y, river, thus Paraguay would mean \"river which gives birth to the sea\".[16] History Pre-colonial era The indigenous Guaraní had been living in eastern Paraguay for at least a millennium before the arrival of the Spanish.[17] Western Paraguay, the Gran Chaco, was inhabited by nomads of whom the Guaycuru peoples were the most prominent. The Paraguay River was roughly the dividing line between the agricultural Guarani people to the east and the nomadic and seminomadic people to the west in the Gran Chaco. The Guarcuru nomads were known for their warrior traditions and were not fully pacified until the late 19th century.[18] These indigenous tribes belonged to five distinct language families, which were the bases of their major divisions.[19][20] Differing language speaking groups were generally competitive over resources and territories. They were further divided into tribes by speaking languages in branches of these families. Today 17 separate ethnolinguistic groups remain.[19][20] Colonial era The first Europeans in the area were Spanish explorers in 1516.[21] The Spanish explorer Juan de Salazar de Espinosa founded the settlement of Asunción on 15 August 1537. The city eventually became the center of a Spanish colonial province of Paraguay. An attempt to create an autonomous Christian Indian nation[22] was undertaken by Jesuit missions and settlements in this part of South America in the eighteenth century. They developed Jesuit reductions to bring Guarani populations together at Spanish missions and protect them from virtual slavery by Spanish settlers and Portuguese slave raiders, the bandeirantes, in addition to seeking their conversion to Christianity. Catholicism in Paraguay was influenced by the indigenous peoples: The syncretic religion has absorbed native elements. The reducciones flourished in eastern Paraguay for about 150 years, until the expulsion of the Jesuits by the Spanish Crown in 1767.[23] The ruins of two 18th century Jesuit Missions of La Santísima Trinidad de Paraná and Jesús de Tavarangue have been designated as World Heritage Sites by UNESCO.[24] In western Paraguay, Spanish settlement and Christianity were strongly resisted by the nomadic Guaycuru and other nomads from the 16th century onward. Most of these peoples were absorbed into the mestizo population in the 18th and 19th centuries. Independence and rule of Francia Paraguay overthrew the local Spanish administration on 14 May 1811. Paraguay's first dictator was José Gaspar Rodríguez de Francia, who ruled Paraguay from 1814 until his death in 1840 with very little outside contact or influence.[25] He intended to create a utopian society based on the Genevan theorist Jean-Jacques Rousseau's Social Contract.[26] Rodríguez de Francia was nicknamed El Supremo. Rodríguez de Francia established new laws that greatly reduced the powers of the Catholic church (Catholicism was then an established state religion) and the cabinet, forbade colonial citizens from marrying one another and allowed them to marry only blacks, mulattoes or natives, in order to break the power of colonial-era elites and to create a mixed-race or mestizo society.[27] He cut off relations between Paraguay and the rest of South America. Because of Francia's restrictions of freedom, Fulgencio Yegros and several other Independence-era leaders in 1820 planned a coup d'état against Francia, who discovered the plot and had its leaders either executed or imprisoned for life.[28] Rule of the López family After Francia's death in 1840, Paraguay was ruled by various military officers under a new junta militar, until Carlos Antonio López (allegedly Rodríguez de Francia's nephew) came to power in 1841. López modernized Paraguay and opened it to foreign commerce. He signed a nonaggression pact with Argentina and officially declared independence of Paraguay in 1842. After López's death in 1862, power was transferred to his eldest son, Francisco Solano López. The regime of the López family was characterized by pervasive and rigid centralism in production and distribution. There was no distinction between the public and the private spheres, and the López family ruled the country as it would a large estate.[29] The government exerted control on all exports. The export of yerba mate and valuable wood products maintained the balance of trade between Paraguay and the outside world.[30] The Paraguayan government was extremely protectionist, never accepted loans from abroad and levied high tariffs against imported foreign products. This protectionism made the society self-sufficient, and it also avoided the debt suffered by Argentina and Brazil. Slavery existed in Paraguay, although not in great numbers, until 1844, when it was legally abolished in the new constitution.[31]: 39–40 Francisco Solano López, the son of Carlos Antonio López, replaced his father as the President-Dictator in 1862, and generally continued the political policies of his father. Both wanted to give an international image of Paraguay as \"democratic and republican\", but in fact, the ruling family had almost total control of all public life in the country, including church and colleges.[31]: 41–42 Militarily, Carlos Antonio López modernized and expanded industry and the Paraguayan Army and greatly strengthened the strategic defenses of Paraguay by developing the Fortress of Humaitá.[32] The government hired more than 200 foreign technicians, who installed telegraph lines and railroads to aid the expanding steel, textile, paper and ink, naval construction, weapons and gunpowder industries. The Ybycuí foundry, completed in 1850, manufactured cannons, mortars and bullets of all calibers. River warships were built in the shipyards of Asunción. Fortifications were built, especially along the Apa River and in Gran Chaco.[33]: 22 Following the death of Carlos Antonio López, these projects continued under his son Francisco Solano. In terms of socio-economic development, the country was dubbed \"the most advanced Republic in South America\", notably by the British judge and politician Sir Robert Phillimore.[34] According to George Thompson, Lieutenant Colonel of Engineers in the Paraguayan Army prior to and during the war, López's government was comparatively a good one for Paraguay: Probably in no other country in the world has life and property been so secure as all over Paraguay during his (Antonio Lopez's) reign. Crime was almost unknown, and when committed, immediately detected and punished. The mass of the people was, perhaps, the happiest in existence. They had hardly to do any work to gain a livelihood. Each family had its house or hut in its own ground. They planted, in a few days, enough tobacco, maize and mandioca for their own consumption [...]. Having at every hut a grove of oranges [...] and also a few cows, they were almost throughout the year under little necessity [...]. The higher classes, of course, lived more in the European way... Paraguayan War (1864–1870) On 12 October 1864, despite Paraguayan ultimatums, Brazil (allied with the Argentine Government under General Bartolomé Mitre and the rebellious Uruguayan colorados led by Gen. Venancio Flores) invaded the Republic of Uruguay in order to overthrow the government of that time (which was under the rule of the Blanco Party, an ally of López),[e] thus starting the Paraguayan War.[f] The Paraguayans, led by the Marshal of the Republic Francisco Solano López, retaliated by attacking Mato Grosso on 15 December 1864 and later declared war against Argentina on 23 March 1865. The Blanco Government was toppled and replaced by a Colorado government under General Venancio Flores on 22 February 1865. Afterward, the Argentine Republic, the Empire of Brazil and the Republic of Uruguay signed the Secret Treaty of the Triple Alliance against the Paraguayan Government on 1 May 1865.[38] On 24 May 1866, the Battle of Tuyutí led to the loss of 6,000 men when a Paraguayan attack was repelled by the Allies. It was marked as the bloodiest battle in South America during the war. The Paraguayans put up a ferocious resistance but ultimately lost in 1870 in the Battle of Cerro Corá, where Marshal Solano López refused to surrender and died in action.[39] The real causes of this war, which remains the bloodiest international conflict in the history of The Americas, are still highly debatable.[g] Paraguay lost 25–33% of its territory to Argentina and Brazil, paid an enormous war debt, and sold large amounts of national properties to stabilize its internal budget. The worst consequence of the war was the catastrophic loss of population. At least 50% of Paraguayans died during the conflict, numbers to which it took many decades for the country to return. Of the disaster suffered by the Paraguayans at the outcome of the war, William D. Rubinstein wrote: \"The normal estimate is that of a Paraguayan population of somewhere between 450,000 and 900,000, only 220,000 survived the war, of whom only 28,000 were adult males.\"[40] During the pillaging of Asunción in 1869, the Imperial Brazilian Army packed up and transported the Paraguayan National Archives to Rio de Janeiro.[41][h] Brazil's records from the war have remained classified. This has made Paraguayan history in the colonial and early national periods difficult to research and study.[42] 20th century In 1904 the Liberal revolution against the rule of Colorados broke out. The Liberal rule started a period of great political instability. Between 1904 and 1954 Paraguay had thirty-one presidents, most of whom were removed from office by force.[43] Conflicts between the factions of the ruling Liberal party led to the Paraguayan Civil War of 1922. The unresolved border conflict with Bolivia over the Chaco region finally erupted in the early 1930s in the Chaco War. After both sides suffered great losses, Paraguay defeated Bolivia and established its sovereignty over most of the disputed Chaco region. After the war, military officers used popular dissatisfaction with the Liberal politicians to seize the power for themselves. On 17 February 1936, the February Revolution brought colonel Rafael Franco to power. Between 1940 and 1948, the country was ruled by general Higinio Morínigo. Dissatisfaction with his rule resulted in the Paraguayan civil war of 1947.[44] In its aftermath Alfredo Stroessner began involvement in a string of plots, which resulted in his military coup d'état of 4 May 1954. In the aftermath of World War II, Paraguay became a hideout for Nazi fugitives accused of war crimes. Stroessner era, 1954–1989 A series of unstable governments ensued until the establishment in 1954 of the regime of dictator Alfredo Stroessner, who remained in office for more than three decades until 1989. Paraguay was modernized to some extent under Stroessner's regime, although his rule was marked by extensive human rights abuses.[45] Stroessner and the Colorado party ruled the country from 1954 to 1989. The dictator oversaw an era of economic expansion, but also had a poor human rights and environmental record (see \"Political History\"). Paraguay actively participated in Operation Condor.[46] Torture and death for political opponents was routine. After his overthrow, the Colorado continued to dominate national politics until 2008. The splits in the Colorado Party in the 1980s, and the prevailing conditions – Stroessner's advanced age, the character of the regime, the economic downturn, and international isolation – were catalysts for anti-regime demonstrations and statements by the opposition prior to the 1988 general elections.[citation needed] PLRA leader Domingo Laíno served as the focal point of the opposition in the second half of the 1980s. The government's effort to isolate Laíno by exiling him in 1982 had backfired. On his sixth attempt to reenter the country in 1986, Laíno returned with three television crews from the U.S., a former United States ambassador to Paraguay, and a group of Uruguayan and Argentine congressmen. Despite the international contingent, the police violently barred Laíno's return.[47] The Stroessner regime relented in April 1987, and permitted Laíno to return to Asunción. Laíno took the lead in organizing demonstrations and reducing infighting among the opposition party. The opposition was unable to reach agreement on a common strategy regarding the elections, with some parties advocating abstention, and others calling for blank voting. The parties held numerous 'lightning demonstrations' (mítines relámpagos), especially in rural areas. Such demonstrations were gathered and quickly disbanded before the arrival of the police. In response to the upsurge in opposition activities, Stroessner condemned the Accord for advocating \"sabotage of the general elections and disrespect of the law\". He used national police and civilian vigilantes of the Colorado Party to break up demonstrations. A number of opposition leaders were imprisoned or otherwise harassed. Hermes Rafael Saguier [es], another key leader of the PLRA, was imprisoned for four months in 1987 on charges of sedition. In early February 1988, police arrested 200 people attending a National Coordinating Committee meeting in Coronel Oviedo. Laíno and several other opposition figures were arrested before dawn on the day of the election, 14 February, and held for twelve hours. The government declared Stroessner's reelection with 89% of the vote.[48] The opposition attributed the results in part to the virtual Colorado monopoly on the mass media. They noted that 53% of those polled indicated that there was an \"uneasiness\" in Paraguayan society. 74% believed that the political situation needed changes, including 45% who wanted a substantial or total change. Finally, 31% stated that they planned to abstain from voting in the February elections.[citation needed] Stroessner's overthrow, post-1989 On 3 February 1989, Stroessner was overthrown in a military coup headed by General Andrés Rodríguez. As president, Rodríguez instituted political, legal, and economic reforms and initiated a rapprochement with the international community. Reflecting the deep hunger of the rural poor for land, hundreds immediately occupied thousands of acres of unused territories belonging to Stroessner and his associates; by mid-1990, 19,000 families occupied 340,000 acres (138,000 ha). At the time, 2.06 million people lived in rural areas, more than half of the 4.1 million total population, and most were landless.[49] The June 1992 constitution established a democratic system of government and dramatically improved protection of fundamental human rights. In May 1993, Colorado Party candidate Juan Carlos Wasmosy was elected as Paraguay's first civilian president in almost forty years, in what international observers deemed free and fair elections. With support from the United States, the Organization of American States, and other countries in the region, the Paraguayan people rejected an April 1996 attempt by then Army Chief General Lino Oviedo to oust President Wasmosy. Oviedo was nominated as the Colorado candidate for president in the 1998 election. However, when the Supreme Court upheld in April his conviction on charges related to the 1996 coup attempt, he was not allowed to run and was detained in jail. His former running mate, Raúl Cubas, became the Colorado Party's candidate, and was elected in May in elections deemed by international observers to be free and fair. One of Cubas' first acts after taking office in August was to commute Oviedo's sentence and release him. In December 1998, Paraguay's Supreme Court declared these actions unconstitutional. In this tense atmosphere, the murder of Vice President and long-time Oviedo rival Luis María Argaña on 23 March 1999, led the Chamber of Deputies to impeach Cubas the next day.[citation needed] On 26 March, eight student anti-government demonstrators were murdered, widely believed to have been carried out by Oviedo supporters. This increased opposition to Cubas, who resigned on 28 March. Senate President Luis González Macchi, a Cubas opponent, was peacefully sworn in as president the same day. In 2003, Nicanor Duarte was elected as president. Election of Fernando Lugo For the 2008 general elections, the Colorado Party was favored in polls. Their candidate was Minister of Education Blanca Ovelar, the first woman to be nominated as a candidate for a major party in Paraguayan history. After sixty years of Colorado rule, voters chose Fernando Lugo, a former Roman Catholic Bishop and not a professional politician in civil government, and a member of the Authentic Radical Liberal Party, Paraguay's largest opposition party. Lugo was an adherent of liberation theology. Lugo achieved a historic victory in Paraguay's presidential election, defeating the ruling party candidate, and ending 61 years of conservative rule. Lugo won with nearly 41% of the vote, compared to almost 31% for Blanca Ovelar of the Colorado party.[50] Outgoing President Nicanor Duarte Frutos hailed the moment as the first time in the history of the nation that a government had transferred power to opposition forces in a constitutional and peaceful fashion.[citation needed] Lugo was sworn in on 15 August 2008. The Lugo administration set its two major priorities as the reduction of corruption and economic inequality.[51] Political instability following Lugo's election and disputes within his cabinet encouraged some renewal of popular support for the Colorado Party. Reports suggested that the businessman Horacio Cartes became the new political figure amid disputes. Despite the US Drug Enforcement Administration's strong accusations against Cartes related to drug trafficking, he continued to amass followers in the political arena.[citation needed] On 14 January 2011, the Colorado Party convention nominated Horacio Cartes as the presidential candidate for the party. However, the party's constitution did not allow it.[clarification needed] On 21 June 2012, impeachment proceedings against President Lugo began in the country's lower house, which was controlled by his opponents. Lugo was given less than twenty-four hours to prepare for the proceedings and only two hours in which to mount a defense.[52] Impeachment was quickly approved and the resulting trial in Paraguay's Senate, also controlled by the opposition, ended with the removal of Lugo from office and Vice President Federico Franco assuming the duties of president.[53] Lugo's rivals blamed him for the deaths of 17 people – eight police officers and nine farmers – in armed clashes after police were ambushed by armed peasants when enforcing an eviction order against rural trespassers.[54] On 14 May 2011, Paraguay celebrated its bicentenary on the 200th anniversary of independence from the Spanish Empire as a sovereign state. Lugo's supporters gathered outside Congress to protest the decision as a \"politically motivated coup d'état\".[53] Lugo's removal from office on 22 June 2012 is considered by UNASUR and other neighboring countries, especially those currently governed by leftist leaders, as a coup d'état.[55] However, the Organization of American States, which sent a mission to Paraguay to gather information, concluded that the impeachment process was not a coup d'état, as it had been carried out in accordance with the Constitution of Paraguay.[56] Present day From August 2013 to 15 August 2018, the President of Paraguay was Horacio Cartes.[57] Since 15 August 2018, the President of Paraguay has been Mario Abdo Benítez. They are both from the conservative Colorado Party.[58] President Mario Abdo enjoyed a close relationship with the Brazilian far-right president (in power 2019–2022), Jair Bolsonaro.[59] In February 2019, President Mario Abdo Benitez was at Bolsonaro's side when Bolsonaro praised Paraguayan military dictator Alfredo Stroessner, calling him \"a man of vision\".[60] In 2021, Paraguay became the first country in South America to produce electric energy in its 100% renewable energy supply. In May 2023, Santiago Peña of the long-ruling Colorado Party, won the presidential election to succeed Mario Abdo as the next President of Paraguay.[61] On 15 August 2023, Santiago Peña was sworn in as Paraguay's new president.[62] Geography Paraguay is divided by the Río Paraguay into two well differentiated geographic regions. The eastern region (Región Oriental); and the western region, officially called Western Paraguay (Región Occidental) and also known as the Chaco, which is part of the Gran Chaco. The country lies between latitudes 19° and 28°S, and longitudes 54° and 63°W. The terrain consists mostly of grassy plains and wooded hills in the eastern region. To the west are mostly low, marshy plains. Paraguay contains six terrestrial ecoregions: Alto Paraná Atlantic forests, Chaco, Cerrado, Humid Chaco, Pantanal, and Paraná flooded savanna.[63] It had a 2019 Forest Landscape Integrity Index mean score of 6.39/10, ranking it 74th globally out of 172 countries.[64] The Guarani Aquifer is an important exorheic basin to the region.[65] Although Paraguay is landlocked, there are a number of noteworthy lakeside beaches.[66] Climate The overall climate is tropical to subtropical. Like most lands in the region, Paraguay has only wet and dry periods. Winds play a major role in influencing Paraguay's weather: between October and March, warm winds blow from the Amazon Basin in the north, while the period between May and August brings cold winds from the Andes. The absence of mountain ranges to provide a natural barrier allows winds to develop speeds as high as 161 km/h (100 mph). This also leads to significant changes in temperature within a short span of time; between April and September, temperatures will sometimes drop below freezing. January is the hottest summer month, with an average daily temperature of 28.9 degrees Celsius (84 degrees F). Rainfall varies dramatically across the country, with substantial rainfall in the eastern portions, and semi-arid conditions in the far west. The far eastern forest belt receives an average of 170 centimeters (67 inches) of rain annually, while the western Chaco region typically averages no more than 50 cm (20 in) a year. The rains in the west tend to be irregular and evaporate quickly, contributing to the aridity of the area. Fauna Wildlife in Paraguay include marsh deer, monkeys, armadillos, anteaters, otters, wild boars, tapirs, jaguars, ocelots, bats, and the coypu. Government and politics Paraguay is a representative democratic republic, with a multi-party system and separation of powers across three branches. Executive power is exercised solely by the President, who is head of state and head of government. Legislative power is vested in the two chambers of the National Congress. The judiciary is vested on tribunals and Courts of Civil Law and a nine-member Supreme Court of Justice, all of them independent of the executive and the legislature. Since the end of the 1947 civil war, the country's politics have generally been dominated by the conservative Colorado Party. Military The military of Paraguay consist of an army, navy (including naval aviation and marine corps) and air force. Paraguay's constitution establishes the president of Paraguay as commander-in-chief of the armed forces.[67] Paraguay has compulsory military service; all 18-year-old males, as well as 17-year-old males in the year of their 18th birthday, are liable for one year of active duty. While the constitution allows for conscientious objection, no enabling legislation has yet been approved. Paraguay has partnered with Argentina, Brazil, and the United States in regional anti-terrorism and anti-narcotics efforts.[68] In July 2005, U.S. special forces began arriving at Paraguay's Mariscal Estigarribia air base to support joint training and humanitarian operations[69][70] In 2019, Asuncion hosted the first meeting of the Regional Security Mechanism (RSM), which promotes cooperation between Paraguay, Argentina, Brazil, and the U.S. in addressing transnational crime and terrorism in the \"triple frontier\" region.[71] Paraguay is the 73rd most peaceful country in the world, according to the 2024 Global Peace Index.[72] Administrative divisions Paraguay consists of seventeen departments and one capital district (distrito capital). It is also divided into two regions: The \"Occidental Region\" or Chaco (Boquerón, Alto Paraguay and Presidente Hayes), and the \"Oriental Region\" (the other departments and the capital district). These are the departments, with their capitals, population, area and the number of districts: Economy For many years, the country's image was associated with the illicit trade in electronic products, weapons and drugs. However, this scenario began to change in the 2000s, with the rise of legalized businesses such as the production of soy, maize, beef, among others. Data from the Central Bank of Paraguay (BCP) showed that, in 2006, exports related to the triangulation trade (China-Paraguay-Brazil), treated by Brazil – in most cases – as smuggling and embezzlement, represented 22% of the country's GDP. In 2016, this percentage dropped to 12%. With higher tax collections through legalized employment, the country has been able to improve its infrastructure, which was precarious. Paraguay has an economic development policy based on exports and dependence on the Brazilian market prevails. The triangulation trade has in its essence the export of products originating in China, with Brazil as its main destination. The energy exported is essentially the hydroelectric surplus generated by the Itaipu Power Plant, for which Brazil is the main buyer. And maquilas, whose main investors are Brazilians, also have a large consumer market in Brazil for their products. Therefore, in these three pillars of Paraguay's development strategy, there is the outstanding characteristic of reexports. In the case of agricultural commodities, it is the export of products originating in Paraguay.[73] In the 2010s, the economy, largely directed towards soybean production, grew by an average of 4%. The economic growth did not, however, reduce poverty, which in 2018, according to official figures, reached more than 26% of the population. According to The New York Times, Paraguay is \"one of the Latin American countries where the gap between rich and poor has widened the most in recent years.\" In the countryside, 85% of agricultural land is owned by 2.6% of the owners. In addition, people of indigenous descent have been expelled to make way for soybean companies.[74][75] The soybean export market is largely dominated by multinationals (Cargill, Archer Daniels Midland, Bunge Limited, etc.) and therefore benefits few Paraguayans. Export companies and landowners pay little tax. For example, a study by ECLAC (a UN agency) released in 2018 indicates that Paraguay is one of the countries where companies participate the least in the state budget.[76] Pesticides and other chemicals are used heavily in soybean fields. The country's environmental standards are not met by companies and agrochemicals contaminate the environment. In 2019, the United Nations Human Rights Committee issued a ruling urging Paraguay to undertake an investigation into the massive fumigation of agrochemicals and the poisoning of the population. However, the situation is not improving: \"The high level of political corruption, the extreme fragility of institutions, the high level of social vulnerability, the omnipotence of economic interests in political decisions, as well as the location [of the country] in the geographic heart of the Southern Cone and its abundance of natural resources, make Paraguay an attractive target for imperial geopolitical interests,\" says sociologist Tomás Palau.[77] Academic José Luis Insfrán also notes that the country's politicians \"are subsidized by big business; they are the ones who implement the policies.\" In 2005, the International Monetary Fund stated that fewer than 10% of workers in Paraguay participate in the pension system, 95% of which is administered by two institutions. Both are financed on a pay as you go system by worker contributions; the first, Instituto de Previsión Social is for private sector employees, and the caja fiscal for public employees (including university professors, teachers, judicial employees, army officers and police officers) and veterans of the Chaco War (or their descendants).[78] The market economy is distinguished by a large informal sector, featuring reexport of imported consumer goods to neighboring countries, as well as the activities of thousands of microenterprises and urban street vendors. Nonetheless, over the last 10 years the Paraguayan economy diversified dramatically, with the energy, auto parts and clothing industries leading the way.[79] Paraguay's most important urban areas are located along the Argentina-Paraguay border: Asunción, Alberdi, Encarnación, Pilar and Ciudad del Este, the latter being the third most important free commercial zone in the world, only trailing behind Miami and Hong Kong.[80][81] A large percentage of the population, especially in rural areas, derives its living from agricultural activity, often on a subsistence basis. Because of the importance of the informal sector, accurate economic measures are difficult to obtain. The economy grew rapidly between 2003 and 2013 as growing world demand for commodities combined with high prices and favorable weather to support Paraguay's commodity-based export expansion. In 2012, Paraguay's government introduced the MERCOSUR (FOCEM) system in order to stimulate the economy and job growth through a partnership with both Brazil and Argentina.[82][needs update] The Central Bank of Paraguay is Paraguay's highest monetary authority, and the country's governing body, in finances and economics. Its headquarters are in Asunción's Carmelitas neighborhood. Agriculture Paraguay is the sixth-largest soybean producer in the world,[83] the second-largest producer of stevia and the ninth-largest exporter of beef.[84][85] In 2018, in addition to soy, the country had a large production of maize and sugar cane, where it positioned itself as the 21st largest producer in the world; other important cultures of the country are cassava, rice, wheat, orange, yerba mate, and sorghum. In livestock, Paraguay produced, in 2020, 481 thousand tons of beef, being the 26th largest producer in the world.[86] Soy farming was largely introduced by Brazilians: in 2019, almost 70% of soy and rice producers in Paraguay were people from Brazil, or descendants of Brazilians (the so-called brasiguaios). The first Brazilian producers began to arrive in the country in the 1980s. Before the Brazilian influx, much of the land in Paraguay was uncultivated.[87][88][89][90][91][92][93] More than 80% of the cultivable land is owned by 2.6% of landowners. Nearly 8 million hectares were illegally granted, in violation of the agrarian law, to regime supporters during the dictatorship of Alfredo Stroessner (1954–1989), and the state has done nothing since to identify the beneficiaries of this illicit enrichment. These owners include generals, businessmen, and politicians, former presidents of the Republic, Nicaraguan dictator Anastasio Somoza Debayle, and even the ruling Colorado Party. More than 130 peasant leaders have been assassinated since the fall of Stroessner in 1989.[94] The methods of appropriating land in Paraguay are numerous. Economist Luis Rojas says that the most common method is to buy land from small producers: \"The peasant is offered a sum of money he has never seen in his life. He imagines it's a fortune, leaves for the city, spends it all in three or four months and makes the misery belts grow, because there is no work.\" Oxfam estimates that 900,000 people have been evicted from the countryside in the last ten years,[when?] which represents nearly one-seventh of the population. This crowd of landless peasants is swelling the poverty belts around Asunción, the capital.[94] Industry and manufacturing The World Bank lists the top producing countries each year, based on the total value of production. By the 2019 list, Paraguay had the 79th most valuable industry in the world ($6.9 billion).[95] The country was the seventh largest producer of soybean oil in the world in 2018.[96] The mineral industry of Paraguay produces about 25% of the country's gross domestic product (GDP) and employs about 31% of the labor force. Production of cement, iron ore, and steel occurs commonly throughout Paraguay's industrial sector. The growth of the industry was further fueled by the maquila industry, with large industrial complexes located in the eastern part of the country. Paraguay put in place many incentives aimed to attract industries to the country. One of them is the so-called \"Maquila law\" by which companies can relocate to Paraguay, enjoying minimal tax rates.[97][98] In the pharmaceutical industry, Paraguayan companies now[when?] meet 70% of domestic consumption and have begun to export drugs. Paraguay is quickly[quantify] supplanting foreign suppliers in meeting the country's drug needs.[99] Strong growth also is evident in the production of edible oils, garments, organic sugar, meat processing, and steel.[100] In 2003, manufacturing comprised 13.6% of the GDP and it employed about 11% of the working population in 2000. Paraguay's primary manufacturing focus is on food and beverages. Wood products, paper products, hides and furs, and nonmetallic mineral products also contribute to manufacturing totals. Steady growth in the manufacturing GDP during the 1990s (1.2% annually) laid the foundation for 2002 and 2003, when the annual growth rate rose to 2.5%.[15] Paraguay was ranked 93rd in the Global Innovation Index in 2024.[101] Literacy rates have been extremely low among Paraguay's indigenous population, who had a literacy rate of 7.1% compared to the 51% rate of the general population as of the 2002 census.[102] Only 2.5% of Paraguay's indigenous population had access to clean drinking water and only 9.5% had electricity as of 2002[update].[102] Infrastructure Transportation According to official data from the M.O.P.C (Ministry of Public Works and Communications of Paraguay), in 2019, there were a total of 78,850 km (48,995 mi) of roads, of which 10,372 km (6,445 mi) were paved.[103][104] One of the most important recent investments in the country's history is the construction of the Bioceanic Corridor, which will cross the north of Paraguay in a horizontal line, connecting Brazil to Argentina, reaching both the ports of northern Chile, as to Brazilian ports. The work will open a new route for exports of products to Asia, and will enable the development of an isolated region of Paraguay, the Chaco. In February 2022, Paraguay inaugurated 275 km of the road (about half of the route), connecting Carmelo Peralta (Alto Paraguay), on the border with Brazil, to Loma Plata (Boquerón), in the center of the country.[105] Paraguay has also been implementing the country's first double highway: 149 km of the Route 2, which connects the capital Asunción to Ciudad del Este, on the border with Brazil (the highway that also connects with port of Paranaguá). In January 2022, there were almost 100 km duplicated.[106] The Paraná-Paraguay system is a natural north–south downstream waterway of 1,600 km of a navigable network area, that gives the region direct access to the ocean, therefore, river transport is important and extensive, concentrating the most commercial maritime traffic to the port of Buenos Aires. Asunción is one of the main ports of Paraguay.[107][108][109][110] Asunción airport is an important stopover for international airlines and Ciudad del Este airport, is an important international air cargo hub.[111] Energy All of Paraguay's electricity is generated by hydropower, making it one of the cleanest in the world. Paraguay has an installed electrical production capacity of 8,110 MW, producing 63 billion kWh/year in 2016; with domestic consumption of just 15 billion kWh, the excess production is sold to Brazil, Argentina, and Uruguay, making Paraguay the world's largest exporter of electric power.[112] This production is from two large hydroelectric power projects along its borders, including the Itaipu Dam, the world's second largest generating station. Demographics Paraguay's population is distributed unevenly through the country, with the vast majority of people living in the eastern region near the capital and largest city, Asunción, which accounts for 10% of the country's population. The Gran Chaco region, which includes the Alto Paraguay, Boquerón and Presidente Hayes Department, and accounts for about 60% of the territory, is home to less than 4% of the population. About 63% of Paraguayans live in urban areas, making Paraguay one of the least urbanized nations in South America. For most of its history, Paraguay has been a recipient of immigrants owing to its low population density, especially after the demographic collapse caused by the Paraguayan War. Immigrants include Italians, Germans, Spanish, English, Russians, Koreans, Chinese, Arab, Japanese, Ukrainians, Poles, Jews, Brazilians, Bolivians, Americans, Colombians, Mexicans, Venezuelans, Chileans, Taiwanese, Peruvians, Asian people, Uruguayans and the largest group of all; Argentines.[113][114][115] Along with German Argentines, German Paraguayans are one of the most prominent and growing German communities in South America, with some 25,000 German-speaking Mennonites living in the Paraguayan Chaco.[116][117] German settlers founded several towns, such as Hohenau, Filadelfia, Neuland, Obligado and Nueva Germania. Several websites that promote German immigration to Paraguay claim that 5–7% of the population is of German ancestry,[dubious – discuss] including 150,000 people of German-Brazilian descent.[better source needed][118][119][120][121][122] Similarly, from the 1920–30s, Paraguay received waves of Slavic immigrants who settled in Asunción and Southern Paraguay (Itapúa, Misiones and Ñeembucú), especially in the towns of Fram, Coronel Bogado, Encarnación, San Juan del Paraná, San Ignacio, and Pilar.[123][124] Paraguay has also been a haven for communities persecuted for the religious faith, like the Bruderhof who were forced to leave England in 1941 because of their pacifist beliefs.[125][126] Many of these communities have retained their languages and culture, particularly the Brazilians, who represent one of the largest immigrant groups.[127] Many Brazilian Paraguayans are of German, Italian and Polish descent.[128] There are an estimated 8,000 Afro-Paraguayans, comprising 0.13% of the population.[citation needed] There is no official data on the ethnic composition of the Paraguayan population, as the Department of Statistics, Surveys and Censuses of Paraguay does not ask about race and ethnicity in census surveys, although it does inquire about the indigenous population. According to the 2022 census, indigenous people made up 2.3% of Paraguay's total population.[5] Traditionally, the majority of the Paraguayan population is considered mixed (mestizo in Spanish). According to the 2022 census, Paraguay has a population of 6 109 944, of which 95% are Mestizo/White and 5% are labeled \"other\", which includes members of 17 distinct ethnolinguistic indigenous groups.[129] Religion Christianity, particularly Catholicism, is the dominant religion in Paraguay.[130] According to the 2002 census, 89.9% of the population was Catholic, 6.2% was Evangelical Protestant, 1.1% identified with other Christian sects, and 0.6% practiced indigenous religions. A U.S. State Department report on Religious Freedom names Catholicism, evangelical Protestantism, mainline Protestantism, Judaism (Orthodox, Conservative, and Reform), The Church of Jesus Christ of Latter-day Saints, and the Baháʼí Faith as prominent religious groups. It also mentions a large Muslim community in Alto Paraná (as a result of Middle-Eastern immigration, especially from Lebanon) and a prominent Mennonite community in Boquerón.[131] Languages Spanish and Guaraní are the two main languages in Paraguay, with both having official status. The Guaraní language is a remarkable trace of the indigenous Guaraní culture that has endured in Paraguay. Guaraní is one of the last commonly used indigenous national languages in South America.[132] In 2015, Spanish was spoken by about 87% of the population, while Guaraní is spoken by more than 90%, or slightly more than 5.8 million speakers. Of rural Paraguayans, 52% are bilingual in Guaraní and Spanish. While Guaraní is still widely spoken, Spanish is generally given a preferential treatment in government, business, media and education as a South American lingua francas.[133][134][135][136] Portuguese is the third most used language, spoken by 10% in the country, mostly in the departments bordering Brazil.[133] It is spoken by the so-called \"Brasiguayos\", Brazilians or descendants who crossed west of the border from the 1970s seeking cheap land.[137] There are also approximately 19 other indigenous languages spoken in Paraguay, many of which are threatened by extinction. Languages such as Guana, Ayoreo, and Ishir (Chamacoco) are considered endangered.[138] Paraguay ranks relatively well at the EF English Proficiency Index, being at the top 50, as it is the 3rd most English proficient country in South America, after Argentina and Uruguay.[139] Education Literacy was about 93.6% and 87.7% of Paraguayans finish the fifth grade according to UNESCO's last Educational Development Index 2008. Literacy does not differ much by gender.[140] A more recent study[141] reveals that attendance at primary school by children between 6 and 12 years old is about 98%. Primary education is free, mandatory and takes nine years. Secondary education takes three years.[140] Main universities, all in the capital city, in Paraguay include: The net primary enrollment rate was at 88% in 2005.[140] Public expenditure on education was about 4.3% of GDP in the early 2000s.[140] Health Average life expectancy in Paraguay is rather high given its poverty: as of 2006[update], it was 75 years,[145] equivalent to far wealthier Argentina, and the eighth highest in the Americas according to World Health Organization. Public expenditure on health is 2.6% of GDP, while private health expenditure is 5.1%.[140] Infant mortality was 20 per 1,000 births in 2005.[140] Maternal mortality was 150 per 100,000 live births in 2000.[140] The World Bank has helped the Paraguayan government reduce the country's maternal and infant mortality. The Mother and Child Basic Health Insurance Project aimed to contribute to reducing mortality by increasing the use of selected life-saving services included in the country's Mother and Child Basic Health Insurance Program (MCBI) by women of child-bearing age, and children under age six in selected areas. To this end, the project also targeted improving the quality and efficiency of the health service network within certain areas, in addition to increasing the Ministry of Public Health and Social Welfare's (MSPandBS) management.[146] Culture Paraguay's cultural heritage can be traced to the extensive intermarriage between the original male Spaniard settlers and indigenous Guaraní women. Their culture is highly influenced by various European countries, including Spain. Therefore, the Paraguayan culture is a fusion of two cultures and traditions; one European, the other, Southern Guaraní. Although this is common throughout the country, it is more visible around the towns of Atyrá, Tobatí and Altos. More than 93% of Paraguayans are mestizos, making Paraguay one of the most homogeneous countries in Latin America. A characteristic of this cultural fusion is the extensive bilingualism present to this day: more than 80% of Paraguayans speak both Spanish and the indigenous language, Guaraní. Jopara, a mixture of Guaraní and Spanish, is also widely spoken.[citation needed] This cultural fusion is expressed in arts such as embroidery (ao po'í) and lace making (ñandutí). The music of Paraguay, which consists of lilting polkas, bouncy galopas, and languid guaranias is played on the native harp. Paraguay's culinary heritage is also deeply influenced by this cultural fusion. Several popular dishes contain manioc, a local staple crop similar to the yuca also known as Cassava root found in the Southwestern United States and Mexico, as well as other indigenous ingredients. A popular dish is sopa paraguaya, similar to a thick corn bread. Another notable food is chipa, a bagel-like bread made from cornmeal, manioc, and cheese. Many other dishes consist of different kinds of cheeses, onions, bell peppers, cottage cheese, cornmeal, milk, seasonings, butter, eggs and fresh corn kernels. The 1950s and 1960s were the time of the birth of a new generation of Paraguayan novelists and poets such as José Ricardo Mazó, Roque Vallejos, and Nobel Prize nominee Augusto Roa Bastos. Several Paraguayan films have been made. Inside the family, conservative values predominate. In lower classes, godparents have a special relationship to the family, since they are typically chosen because of their favourable social position, in order to provide extra security for the children. Particular respect is owed them, in return for which the family can expect protection and patronage.[147] The most popular instruments in Paraguayan music are the harp and the guitar. The native genres are the Paraguayan polka and the guarania, characterized by a slow song that was developed by José Asunción Flores around the 1920s.[148][149] Media Sports Sports are integral to the national culture; soccer and basketball are most popular.[150] Other sports such as volleyball, handball, futsal, swimming and tennis are also popular.[150] See also Notes References External links 23°S 58°W﻿ / ﻿23°S 58°W﻿ / -23; -58\n"
     ]
    }
   ],
   "source": [
    "city_data = []\n",
    "for tag in soup.find_all(['h1', 'h2', 'h3', 'p']):\n",
    "    text = tag.text.strip()\n",
    "    city_data.append(text)\n",
    "\n",
    "city_data = \"\\n\".join(city_data)\n",
    "\n",
    "city_data = re.sub(r'\\s+', ' ', city_data)  # remove extra whitespace\n",
    "\n",
    "print(f\"Website: {url}\\n\\n\")\n",
    "print(city_data)  # limit long outputs"
   ]
  },
  {
   "cell_type": "markdown",
   "id": "359bb5df",
   "metadata": {},
   "source": [
    "## Second: Example using the client. Simple output"
   ]
  },
  {
   "cell_type": "code",
   "execution_count": 17,
   "id": "cfc135dd",
   "metadata": {},
   "outputs": [
    {
     "name": "stdout",
     "output_type": "stream",
     "text": [
      "Running query: \n",
      "    where is the city of Asunción?\n",
      "    Which languages are spoken there?\n",
      "    \"en.wikipedia.org\"\n",
      " with Tavily search...\n"
     ]
    },
    {
     "data": {
      "text/plain": [
       "{'query': '\\n    where is the city of Asunción?\\n    Which languages are spoken there?\\n    \"en.wikipedia.org\"\\n',\n",
       " 'follow_up_questions': None,\n",
       " 'answer': None,\n",
       " 'images': [],\n",
       " 'results': [{'url': 'https://en.wikipedia.org/wiki/Asunci%C3%B3n',\n",
       "   'title': 'Asunción - Wikipedia',\n",
       "   'content': 'The metropolitan area, called Gran Asunción, includes the cities of San Lorenzo \"San Lorenzo (Paraguay)\"), Fernando de la Mora \"Fernando de la Mora (Paraguay)\"), Lambaré, Luque, Mariano Roque Alonso, Ñemby, San Antonio, Limpio, Capiatá and Villa Elisa \"Villa Elisa (Paraguay)\"), which are part of the Central Department. Asunción has been the first completely urban city in Paraguay since approximately the middle of the 20th century. Because the Paraguay River runs right next to Asunción the city is served by a river terminal in the downtown area. Being the third-oldest capital city of South America, after Quito and Lima, Asunción has plenty to offer, culturally speaking, from Spanish colonial-era buildings (Baroque to neo-Gothic), museums or urban parks, this classic city also hosts several symphony orchestras, ballet, opera and theater companies.',\n",
       "   'score': 0.72977066,\n",
       "   'raw_content': None}],\n",
       " 'response_time': 0.72}"
      ]
     },
     "execution_count": 17,
     "metadata": {},
     "output_type": "execute_result"
    }
   ],
   "source": [
    "from tavily import TavilyClient\n",
    "# connect\n",
    "client = TavilyClient(api_key=os.environ.get(\"TAVILY_API_KEY\"))\n",
    "\n",
    "print(f\"Running query: {query} with Tavily search...\")\n",
    "result = client.search(query, max_results=1)\n",
    "result"
   ]
  },
  {
   "cell_type": "markdown",
   "id": "fcbf5bd7",
   "metadata": {},
   "source": [
    "### See in a JSON format"
   ]
  },
  {
   "cell_type": "code",
   "execution_count": 20,
   "id": "5baa83e7",
   "metadata": {},
   "outputs": [
    {
     "name": "stdout",
     "output_type": "stream",
     "text": [
      "{\u001b[37m\u001b[39;49;00m\n",
      "\u001b[37m    \u001b[39;49;00m\u001b[94m\"url\"\u001b[39;49;00m:\u001b[37m \u001b[39;49;00m\u001b[33m\"https://en.wikipedia.org/wiki/Asunci%C3%B3n\"\u001b[39;49;00m,\u001b[37m\u001b[39;49;00m\n",
      "\u001b[37m    \u001b[39;49;00m\u001b[94m\"title\"\u001b[39;49;00m:\u001b[37m \u001b[39;49;00m\u001b[33m\"Asunci\\u00f3n - Wikipedia\"\u001b[39;49;00m,\u001b[37m\u001b[39;49;00m\n",
      "\u001b[37m    \u001b[39;49;00m\u001b[94m\"content\"\u001b[39;49;00m:\u001b[37m \u001b[39;49;00m\u001b[33m\"The metropolitan area, called Gran Asunci\\u00f3n, includes the cities of San Lorenzo \\\"San Lorenzo (Paraguay)\\\"), Fernando de la Mora \\\"Fernando de la Mora (Paraguay)\\\"), Lambar\\u00e9, Luque, Mariano Roque Alonso, \\u00d1emby, San Antonio, Limpio, Capiat\\u00e1 and Villa Elisa \\\"Villa Elisa (Paraguay)\\\"), which are part of the Central Department. Asunci\\u00f3n has been the first completely urban city in Paraguay since approximately the middle of the 20th century. Because the Paraguay River runs right next to Asunci\\u00f3n the city is served by a river terminal in the downtown area. Being the third-oldest capital city of South America, after Quito and Lima, Asunci\\u00f3n has plenty to offer, culturally speaking, from Spanish colonial-era buildings (Baroque to neo-Gothic), museums or urban parks, this classic city also hosts several symphony orchestras, ballet, opera and theater companies.\"\u001b[39;49;00m,\u001b[37m\u001b[39;49;00m\n",
      "\u001b[37m    \u001b[39;49;00m\u001b[94m\"score\"\u001b[39;49;00m:\u001b[37m \u001b[39;49;00m\u001b[34m0.72977066\u001b[39;49;00m,\u001b[37m\u001b[39;49;00m\n",
      "\u001b[37m    \u001b[39;49;00m\u001b[94m\"raw_content\"\u001b[39;49;00m:\u001b[37m \u001b[39;49;00m\u001b[34mnull\u001b[39;49;00m\u001b[37m\u001b[39;49;00m\n",
      "}\u001b[37m\u001b[39;49;00m\n",
      "\n"
     ]
    }
   ],
   "source": [
    "import json\n",
    "from pygments import highlight, lexers, formatters\n",
    "# print the first result\n",
    "if result and len(result) > 0:\n",
    "    data = result[\"results\"][0]\n",
    "\n",
    "    if type(result) is dict and \"results\" in result:\n",
    "        # pretty print JSON with syntax highlighting\n",
    "        formatted_json = json.dumps(data, indent=4)\n",
    "\n",
    "    if type(result) is str:\n",
    "        data = data.replace(\"'\", '\"') # replace single quotes with double quotes for valid JSON format\n",
    "        parsed_json = json.loads(data)\n",
    "        formatted_json = json.dumps(parsed_json, indent=4)\n",
    "\n",
    "# formatted_json\n",
    "\n",
    "colorful_json = highlight(formatted_json,\n",
    "                          lexers.JsonLexer(),\n",
    "                          formatters.TerminalFormatter())\n",
    "\n",
    "print(colorful_json)"
   ]
  },
  {
   "cell_type": "code",
   "execution_count": 23,
   "id": "730122bd",
   "metadata": {},
   "outputs": [
    {
     "data": {
      "text/plain": [
       "'In early 2025, AI advancements focused on generalist AI agents, multimodal models, and significant investments in AI infrastructure. Key highlights included the launch of advanced AI assistants and substantial funding for AI projects.'"
      ]
     },
     "execution_count": 23,
     "metadata": {},
     "output_type": "execute_result"
    }
   ],
   "source": [
    "# Just for fun, let's run a search with an answer and dates of the sources\n",
    "# run search\n",
    "result = client.search(\"What were the advances in AI at the beginning of 2025? Include answer and dates of your sources\",\n",
    "                       include_answer=True)\n",
    "\n",
    "# print the answer\n",
    "result[\"answer\"]"
   ]
  }
 ],
 "metadata": {
  "kernelspec": {
   "display_name": "openai",
   "language": "python",
   "name": "python3"
  },
  "language_info": {
   "codemirror_mode": {
    "name": "ipython",
    "version": 3
   },
   "file_extension": ".py",
   "mimetype": "text/x-python",
   "name": "python",
   "nbconvert_exporter": "python",
   "pygments_lexer": "ipython3",
   "version": "3.12.10"
  }
 },
 "nbformat": 4,
 "nbformat_minor": 5
}
