{
 "cells": [
  {
   "cell_type": "markdown",
   "id": "ece05f3d",
   "metadata": {},
   "source": [
    "# Based on https://til.simonwillison.net/llms/python-react-pattern"
   ]
  },
  {
   "cell_type": "code",
   "execution_count": null,
   "id": "8b5ed0f4",
   "metadata": {},
   "outputs": [],
   "source": [
    "import openai\n",
    "import re\n",
    "import httpx\n",
    "import os\n",
    "from dotenv import load_dotenv\n",
    "\n",
    "_ = load_dotenv()\n",
    "from openai import OpenAI"
   ]
  },
  {
   "cell_type": "code",
   "execution_count": null,
   "id": "fcb878c8",
   "metadata": {},
   "outputs": [],
   "source": [
    "# Check the OpenAI client set up\n",
    "client = OpenAI()\n",
    "chat_completion = client.chat.completions.create(\n",
    "    model=\"gpt-3.5-turbo\",\n",
    "    messages=[\n",
    "        {\n",
    "            \"role\": \"system\",\n",
    "            \"content\": \"You are a helpful assistant that translates English to Spanish.\",\n",
    "        },\n",
    "        {\n",
    "            \"role\": \"user\",\n",
    "            \"content\": \"We are learning the basics of LangChain.\",\n",
    "        },\n",
    "    ],\n",
    "    temperature=0.7,\n",
    ")\n",
    "chat_completion.choices[0].message.content"
   ]
  },
  {
   "cell_type": "code",
   "execution_count": null,
   "id": "2b9c5744",
   "metadata": {},
   "outputs": [],
   "source": [
    "# Create our first Agent\n",
    "\n",
    "class SimpleReActAgent:\n",
    "    def __init__(self, system=\"\"):\n",
    "        self.system = system\n",
    "        self.messages = []\n",
    "        if self.system:\n",
    "            self.messages.append({\"role\": \"system\", \"content\": self.system})\n",
    "\n",
    "    def __call__(self, message):\n",
    "        self.messages.append({\"role\": \"user\", \"content\": message})\n",
    "        result = self.execute()\n",
    "        self.messages.append({\"role\": \"assistant\", \"content\": result})\n",
    "        return result\n",
    "    \n",
    "    def execute(self):\n",
    "        completation = client.chat.completions.create(\n",
    "            model=\"gpt-3.5-turbo\",\n",
    "            messages=self.messages,\n",
    "            temperature=0, # Zero  will make it very deterministic\n",
    "        )\n",
    "        return completation.choices[0].message.content"
   ]
  },
  {
   "cell_type": "code",
   "execution_count": 69,
   "id": "d2bd2153",
   "metadata": {},
   "outputs": [],
   "source": [
    "prompt = \"\"\"\"\n",
    "You run in a loop of Thought, Action, PAUSE, Observation.\n",
    "At the end of the loop you output an Answer\n",
    "Use Thought to describe your thoughts about the question you have been asked.\n",
    "Use Action to run one of the actions available to you - then return PAUSE.\n",
    "Observation will be the result of running those actions.\n",
    "\n",
    "Your available actions are:\n",
    "\n",
    "wikipedia:\n",
    "e.g. wikipedia: Paraguay\n",
    "Returns a summary from searching Wikipedia\n",
    "\n",
    "translate:\n",
    "e.g. translate: The capital of Paraguay is Asuncion\n",
    "Returns a translation of the text from English to Spanish.\n",
    "\n",
    "Example:\n",
    "Question: Tell me about Paraguay\n",
    "Thought: I need to find information about Paraguay using wikipedia.\n",
    "Action: wikipedia: Paraguay\n",
    "PAUSE\n",
    "\n",
    "You will be called again with this:\n",
    "\n",
    "Observation: Paraguay is a country in South America. Its capital is Asuncion.\n",
    "\n",
    "You then output:\n",
    "\n",
    "Answer: Paraguay is a country in South America. Its capital is Asuncion.\n",
    "\n",
    "\n",
    "\"\"\".strip()"
   ]
  },
  {
   "cell_type": "code",
   "execution_count": 70,
   "id": "68ceba48",
   "metadata": {},
   "outputs": [],
   "source": [
    "def wikipedia(q):\n",
    "    return httpx.get(\"https://en.wikipedia.org/w/api.php\", params={\n",
    "        \"action\": \"query\",\n",
    "        \"list\": \"search\",\n",
    "        \"srsearch\": q,\n",
    "        \"format\": \"json\"\n",
    "    }).json()[\"query\"][\"search\"][0][\"snippet\"]\n",
    "\n",
    "def translate(source_lang=\"English\", target_lang=\"Spanish\", text=\"\"):\n",
    "    # Create a prompt for the translation\n",
    "    prompt = f\"Translate the following text from {source_lang} to {target_lang}: {text}\"\n",
    "    return prompt\n",
    "\n",
    "# Define the actions that the agent can perform    \n",
    "known_actions = {\n",
    "    \"wikipedia\": wikipedia,\n",
    "    \"translate\": translate\n",
    "}"
   ]
  },
  {
   "cell_type": "code",
   "execution_count": null,
   "id": "e7893e64",
   "metadata": {},
   "outputs": [
    {
     "name": "stdout",
     "output_type": "stream",
     "text": [
      "Thought: I need to find information about Paraguay using wikipedia.\n",
      "Action: wikipedia: Paraguay\n",
      "PAUSE\n",
      "Answer: Paraguay is a country in South America. Its capital is Asuncion.\n",
      "Answer: Respuesta: Paraguay es un país en América del Sur. Su capital es Asunción.\n"
     ]
    }
   ],
   "source": [
    "# Manually step through the agent's process\n",
    "abot = SimpleReActAgent(prompt)\n",
    "result = abot(\"Tell me about Paraguay\")\n",
    "print(result)\n",
    "next_prompt = \"Observation: {}\".format(result)\n",
    "result = abot(next_prompt)\n",
    "print(result)\n",
    "\n",
    "next_prompt = \"Observation: {}\".format(translate(text=result or \"\"))\n",
    "result = abot(next_prompt)\n",
    "print(result)"
   ]
  },
  {
   "cell_type": "code",
   "execution_count": 64,
   "id": "aff7f16a",
   "metadata": {},
   "outputs": [],
   "source": [
    "abot = SimpleReActAgent(prompt)\n",
    "\n",
    "action_re = re.compile(r'^Action: (\\w+): (.*)$')   # python regular expression to selection action\n",
    "\n",
    "def query(question, max_turns=5):\n",
    "    i = 0\n",
    "    bot = SimpleReActAgent(prompt)\n",
    "    next_prompt = question\n",
    "    while i < max_turns:\n",
    "        i += 1\n",
    "        result = bot(next_prompt)\n",
    "        print(result)\n",
    "        if result is None:\n",
    "            break\n",
    "        actions = [\n",
    "            action_re.match(a) \n",
    "            for a in result.split('\\n')\n",
    "        ]\n",
    "        # Filter out None values\n",
    "        actions = [a for a in actions if a is not None]\n",
    "        print(\"-\"*20)\n",
    "        print(actions)\n",
    "        print(\"-\"*20)\n",
    "        if actions:\n",
    "            # There is an action to run\n",
    "            action, action_input = actions[0].groups()\n",
    "            if action not in known_actions:\n",
    "                raise Exception(\"Unknown action: {}: {}\".format(action, action_input))\n",
    "            print(\" -- running {} {}\".format(action, action_input))\n",
    "            observation = known_actions[action](action_input)\n",
    "            print(\"Observation:\", observation)\n",
    "            next_prompt = \"Observation: {}\".format(observation)\n",
    "        else:\n",
    "            return"
   ]
  },
  {
   "cell_type": "code",
   "execution_count": 74,
   "id": "16ecae95",
   "metadata": {},
   "outputs": [
    {
     "name": "stdout",
     "output_type": "stream",
     "text": [
      "Thought: I need to find information about Paraguay using wikipedia.\n",
      "Action: wikipedia: Paraguay\n",
      "PAUSE\n",
      "--------------------\n",
      "[<re.Match object; span=(0, 27), match='Action: wikipedia: Paraguay'>]\n",
      "--------------------\n",
      " -- running wikipedia Paraguay\n",
      "Observation: <span class=\"searchmatch\">Paraguay</span>, officially the Republic of <span class=\"searchmatch\">Paraguay</span>, is a landlocked country in South America. It is bordered by Argentina to the south and southwest, Brazil\n",
      "Thought: I need to translate the information about Paraguay from English to Spanish.\n",
      "Action: translate: Paraguay, officially the Republic of Paraguay, is a landlocked country in South America. It is bordered by Argentina to the south and southwest, Brazil\n",
      "PAUSE\n",
      "--------------------\n",
      "[<re.Match object; span=(0, 170), match='Action: translate: Paraguay, officially the Repub>]\n",
      "--------------------\n",
      " -- running translate Paraguay, officially the Republic of Paraguay, is a landlocked country in South America. It is bordered by Argentina to the south and southwest, Brazil\n",
      "Observation: Translate the following text from Paraguay, officially the Republic of Paraguay, is a landlocked country in South America. It is bordered by Argentina to the south and southwest, Brazil to Spanish: \n",
      "Answer: Paraguay, oficialmente la República del Paraguay, es un país sin litoral en América del Sur. Está limitado por Argentina al sur y suroeste, Brasil\n",
      "--------------------\n",
      "[]\n",
      "--------------------\n"
     ]
    }
   ],
   "source": [
    "query(\"What is Paraguay?. Translate the answer.\")"
   ]
  },
  {
   "cell_type": "code",
   "execution_count": 77,
   "id": "286a8532",
   "metadata": {},
   "outputs": [
    {
     "name": "stdout",
     "output_type": "stream",
     "text": [
      "Thought: I need to confirm if Bolivia is bordered by Paraguay using Wikipedia.\n",
      "Action: wikipedia: Bolivia\n",
      "PAUSE\n",
      "--------------------\n",
      "[<re.Match object; span=(0, 26), match='Action: wikipedia: Bolivia'>]\n",
      "--------------------\n",
      " -- running wikipedia Bolivia\n",
      "Observation: <span class=\"searchmatch\">Bolivia</span>, officially the Plurinational State of <span class=\"searchmatch\">Bolivia</span>, is a landlocked country located in central South America. The country features diverse geography\n",
      "Thought: Now that I have confirmed that Bolivia is a landlocked country in central South America, I can provide the translation of the answer.\n",
      "Action: translate: Bolivia is a landlocked country located in central South America.\n",
      "PAUSE\n",
      "--------------------\n",
      "[<re.Match object; span=(0, 84), match='Action: translate: Bolivia is a landlocked countr>]\n",
      "--------------------\n",
      " -- running translate Bolivia is a landlocked country located in central South America.\n",
      "Observation: Translate the following text from Bolivia is a landlocked country located in central South America. to Spanish: \n",
      "Answer: Bolivia es un país sin litoral ubicado en el centro de América del Sur.\n",
      "--------------------\n",
      "[]\n",
      "--------------------\n"
     ]
    }
   ],
   "source": [
    "query(\"Is Bolivia bordered Paraguay?. Translate the answer.\")"
   ]
  }
 ],
 "metadata": {
  "kernelspec": {
   "display_name": "openai",
   "language": "python",
   "name": "python3"
  },
  "language_info": {
   "codemirror_mode": {
    "name": "ipython",
    "version": 3
   },
   "file_extension": ".py",
   "mimetype": "text/x-python",
   "name": "python",
   "nbconvert_exporter": "python",
   "pygments_lexer": "ipython3",
   "version": "3.12.10"
  }
 },
 "nbformat": 4,
 "nbformat_minor": 5
}
